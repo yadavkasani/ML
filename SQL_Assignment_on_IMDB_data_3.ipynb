{
 "cells": [
  {
   "cell_type": "code",
   "execution_count": 4,
   "metadata": {
    "colab": {
     "base_uri": "https://localhost:8080/"
    },
    "executionInfo": {
     "elapsed": 25246,
     "status": "ok",
     "timestamp": 1609600365084,
     "user": {
      "displayName": "shankar gonti",
      "photoUrl": "",
      "userId": "07710941660107426028"
     },
     "user_tz": -330
    },
    "id": "HkbFLnnxwc2x",
    "outputId": "b19d0935-a120-45e8-bfe6-adef72dc15c2"
   },
   "outputs": [
    {
     "name": "stdout",
     "output_type": "stream",
     "text": [
      "Mounted at /content/drive\n"
     ]
    }
   ],
   "source": [
    "from google.colab import drive \n",
    "drive.mount('/content/drive') "
   ]
  },
  {
   "cell_type": "code",
   "execution_count": 5,
   "metadata": {
    "executionInfo": {
     "elapsed": 3324,
     "status": "ok",
     "timestamp": 1609600365086,
     "user": {
      "displayName": "shankar gonti",
      "photoUrl": "",
      "userId": "07710941660107426028"
     },
     "user_tz": -330
    },
    "id": "W8ErmGshzs0I"
   },
   "outputs": [],
   "source": [
    "import sqlite3\n",
    "import pandas as pd"
   ]
  },
  {
   "cell_type": "code",
   "execution_count": 6,
   "metadata": {
    "executionInfo": {
     "elapsed": 6250,
     "status": "ok",
     "timestamp": 1609600368508,
     "user": {
      "displayName": "shankar gonti",
      "photoUrl": "",
      "userId": "07710941660107426028"
     },
     "user_tz": -330
    },
    "id": "64NjzvCTzxtR"
   },
   "outputs": [],
   "source": [
    "# In order to load the data.\n",
    "con= sqlite3.connect('/content/drive/My Drive/Classroom/dataset/Db-IMDB.db')"
   ]
  },
  {
   "cell_type": "code",
   "execution_count": 7,
   "metadata": {
    "colab": {
     "base_uri": "https://localhost:8080/",
     "height": 432
    },
    "executionInfo": {
     "elapsed": 5348,
     "status": "ok",
     "timestamp": 1609600368510,
     "user": {
      "displayName": "shankar gonti",
      "photoUrl": "",
      "userId": "07710941660107426028"
     },
     "user_tz": -330
    },
    "id": "8OSe5l4A1sU-",
    "outputId": "1f35b46c-bb69-46dc-d5ca-662a748e0a1a"
   },
   "outputs": [
    {
     "data": {
      "text/html": [
       "<div>\n",
       "<style scoped>\n",
       "    .dataframe tbody tr th:only-of-type {\n",
       "        vertical-align: middle;\n",
       "    }\n",
       "\n",
       "    .dataframe tbody tr th {\n",
       "        vertical-align: top;\n",
       "    }\n",
       "\n",
       "    .dataframe thead th {\n",
       "        text-align: right;\n",
       "    }\n",
       "</style>\n",
       "<table border=\"1\" class=\"dataframe\">\n",
       "  <thead>\n",
       "    <tr style=\"text-align: right;\">\n",
       "      <th></th>\n",
       "      <th>type</th>\n",
       "      <th>name</th>\n",
       "      <th>tbl_name</th>\n",
       "      <th>rootpage</th>\n",
       "      <th>sql</th>\n",
       "    </tr>\n",
       "  </thead>\n",
       "  <tbody>\n",
       "    <tr>\n",
       "      <th>0</th>\n",
       "      <td>table</td>\n",
       "      <td>Movie</td>\n",
       "      <td>Movie</td>\n",
       "      <td>2</td>\n",
       "      <td>CREATE TABLE \"Movie\" (\\n\"index\" INTEGER,\\n  \"M...</td>\n",
       "    </tr>\n",
       "    <tr>\n",
       "      <th>1</th>\n",
       "      <td>table</td>\n",
       "      <td>Genre</td>\n",
       "      <td>Genre</td>\n",
       "      <td>4</td>\n",
       "      <td>CREATE TABLE \"Genre\" (\\n\"index\" INTEGER,\\n  \"N...</td>\n",
       "    </tr>\n",
       "    <tr>\n",
       "      <th>2</th>\n",
       "      <td>table</td>\n",
       "      <td>Language</td>\n",
       "      <td>Language</td>\n",
       "      <td>5</td>\n",
       "      <td>CREATE TABLE \"Language\" (\\n\"index\" INTEGER,\\n ...</td>\n",
       "    </tr>\n",
       "    <tr>\n",
       "      <th>3</th>\n",
       "      <td>table</td>\n",
       "      <td>Country</td>\n",
       "      <td>Country</td>\n",
       "      <td>6</td>\n",
       "      <td>CREATE TABLE \"Country\" (\\n\"index\" INTEGER,\\n  ...</td>\n",
       "    </tr>\n",
       "    <tr>\n",
       "      <th>4</th>\n",
       "      <td>table</td>\n",
       "      <td>Location</td>\n",
       "      <td>Location</td>\n",
       "      <td>7</td>\n",
       "      <td>CREATE TABLE \"Location\" (\\n\"index\" INTEGER,\\n ...</td>\n",
       "    </tr>\n",
       "    <tr>\n",
       "      <th>5</th>\n",
       "      <td>table</td>\n",
       "      <td>M_Location</td>\n",
       "      <td>M_Location</td>\n",
       "      <td>11</td>\n",
       "      <td>CREATE TABLE \"M_Location\" (\\n\"index\" INTEGER,\\...</td>\n",
       "    </tr>\n",
       "    <tr>\n",
       "      <th>6</th>\n",
       "      <td>table</td>\n",
       "      <td>M_Country</td>\n",
       "      <td>M_Country</td>\n",
       "      <td>10</td>\n",
       "      <td>CREATE TABLE \"M_Country\" (\\n\"index\" INTEGER,\\n...</td>\n",
       "    </tr>\n",
       "    <tr>\n",
       "      <th>7</th>\n",
       "      <td>table</td>\n",
       "      <td>M_Language</td>\n",
       "      <td>M_Language</td>\n",
       "      <td>9</td>\n",
       "      <td>CREATE TABLE \"M_Language\" (\\n\"index\" INTEGER,\\...</td>\n",
       "    </tr>\n",
       "    <tr>\n",
       "      <th>8</th>\n",
       "      <td>table</td>\n",
       "      <td>M_Genre</td>\n",
       "      <td>M_Genre</td>\n",
       "      <td>8</td>\n",
       "      <td>CREATE TABLE \"M_Genre\" (\\n\"index\" INTEGER,\\n  ...</td>\n",
       "    </tr>\n",
       "    <tr>\n",
       "      <th>9</th>\n",
       "      <td>table</td>\n",
       "      <td>Person</td>\n",
       "      <td>Person</td>\n",
       "      <td>12</td>\n",
       "      <td>CREATE TABLE \"Person\" (\\n\"index\" INTEGER,\\n  \"...</td>\n",
       "    </tr>\n",
       "    <tr>\n",
       "      <th>10</th>\n",
       "      <td>table</td>\n",
       "      <td>M_Producer</td>\n",
       "      <td>M_Producer</td>\n",
       "      <td>14</td>\n",
       "      <td>CREATE TABLE \"M_Producer\" (\\n\"index\" INTEGER,\\...</td>\n",
       "    </tr>\n",
       "    <tr>\n",
       "      <th>11</th>\n",
       "      <td>table</td>\n",
       "      <td>M_Director</td>\n",
       "      <td>M_Director</td>\n",
       "      <td>15</td>\n",
       "      <td>CREATE TABLE \"M_Director\" (\\n\"index\" INTEGER,\\...</td>\n",
       "    </tr>\n",
       "    <tr>\n",
       "      <th>12</th>\n",
       "      <td>table</td>\n",
       "      <td>M_Cast</td>\n",
       "      <td>M_Cast</td>\n",
       "      <td>16</td>\n",
       "      <td>CREATE TABLE \"M_Cast\" (\\n\"index\" INTEGER,\\n  \"...</td>\n",
       "    </tr>\n",
       "  </tbody>\n",
       "</table>\n",
       "</div>"
      ],
      "text/plain": [
       "     type  ...                                                sql\n",
       "0   table  ...  CREATE TABLE \"Movie\" (\\n\"index\" INTEGER,\\n  \"M...\n",
       "1   table  ...  CREATE TABLE \"Genre\" (\\n\"index\" INTEGER,\\n  \"N...\n",
       "2   table  ...  CREATE TABLE \"Language\" (\\n\"index\" INTEGER,\\n ...\n",
       "3   table  ...  CREATE TABLE \"Country\" (\\n\"index\" INTEGER,\\n  ...\n",
       "4   table  ...  CREATE TABLE \"Location\" (\\n\"index\" INTEGER,\\n ...\n",
       "5   table  ...  CREATE TABLE \"M_Location\" (\\n\"index\" INTEGER,\\...\n",
       "6   table  ...  CREATE TABLE \"M_Country\" (\\n\"index\" INTEGER,\\n...\n",
       "7   table  ...  CREATE TABLE \"M_Language\" (\\n\"index\" INTEGER,\\...\n",
       "8   table  ...  CREATE TABLE \"M_Genre\" (\\n\"index\" INTEGER,\\n  ...\n",
       "9   table  ...  CREATE TABLE \"Person\" (\\n\"index\" INTEGER,\\n  \"...\n",
       "10  table  ...  CREATE TABLE \"M_Producer\" (\\n\"index\" INTEGER,\\...\n",
       "11  table  ...  CREATE TABLE \"M_Director\" (\\n\"index\" INTEGER,\\...\n",
       "12  table  ...  CREATE TABLE \"M_Cast\" (\\n\"index\" INTEGER,\\n  \"...\n",
       "\n",
       "[13 rows x 5 columns]"
      ]
     },
     "execution_count": 7,
     "metadata": {
      "tags": []
     },
     "output_type": "execute_result"
    }
   ],
   "source": [
    "table = pd.read_sql_query(\"SELECT * FROM sqlite_master WHERE type='table'\",con)\n",
    "table "
   ]
  },
  {
   "cell_type": "markdown",
   "metadata": {
    "id": "-SxQrbljEy0M"
   },
   "source": [
    "![alt text](https://drive.google.com/uc?id=1B_Ymu7AQRaBGDQiD6ww6QULkUS7WdfTA)"
   ]
  },
  {
   "cell_type": "markdown",
   "metadata": {
    "id": "0fi57KmY0wtl"
   },
   "source": [
    "**1. List all the directors who directed a 'Comedy' movie in a leap year. (You need to check  that the genre is 'Comedy’ and year is a leap year) Your query should return director name, the movie name, and the year.**"
   ]
  },
  {
   "cell_type": "code",
   "execution_count": null,
   "metadata": {
    "colab": {
     "base_uri": "https://localhost:8080/",
     "height": 419
    },
    "id": "TzXn1EzLfurd",
    "outputId": "88f22edd-5dc3-4839-d298-467640998540"
   },
   "outputs": [
    {
     "data": {
      "text/html": [
       "<div>\n",
       "<style scoped>\n",
       "    .dataframe tbody tr th:only-of-type {\n",
       "        vertical-align: middle;\n",
       "    }\n",
       "\n",
       "    .dataframe tbody tr th {\n",
       "        vertical-align: top;\n",
       "    }\n",
       "\n",
       "    .dataframe thead th {\n",
       "        text-align: right;\n",
       "    }\n",
       "</style>\n",
       "<table border=\"1\" class=\"dataframe\">\n",
       "  <thead>\n",
       "    <tr style=\"text-align: right;\">\n",
       "      <th></th>\n",
       "      <th>title</th>\n",
       "      <th>cyear</th>\n",
       "      <th>Name</th>\n",
       "    </tr>\n",
       "  </thead>\n",
       "  <tbody>\n",
       "    <tr>\n",
       "      <th>0</th>\n",
       "      <td>100% Love</td>\n",
       "      <td>2012</td>\n",
       "      <td>Rabi Kinagi</td>\n",
       "    </tr>\n",
       "    <tr>\n",
       "      <th>1</th>\n",
       "      <td>3 Bachelors</td>\n",
       "      <td>2012</td>\n",
       "      <td>Ajai Sinha</td>\n",
       "    </tr>\n",
       "    <tr>\n",
       "      <th>2</th>\n",
       "      <td>99</td>\n",
       "      <td>0</td>\n",
       "      <td>Krishna D.K.</td>\n",
       "    </tr>\n",
       "    <tr>\n",
       "      <th>3</th>\n",
       "      <td>A Flying Jatt</td>\n",
       "      <td>2016</td>\n",
       "      <td>Remo D'Souza</td>\n",
       "    </tr>\n",
       "    <tr>\n",
       "      <th>4</th>\n",
       "      <td>Ab Ayega Mazaa</td>\n",
       "      <td>1984</td>\n",
       "      <td>Pankaj Parashar</td>\n",
       "    </tr>\n",
       "    <tr>\n",
       "      <th>...</th>\n",
       "      <td>...</td>\n",
       "      <td>...</td>\n",
       "      <td>...</td>\n",
       "    </tr>\n",
       "    <tr>\n",
       "      <th>240</th>\n",
       "      <td>Welcome</td>\n",
       "      <td>0</td>\n",
       "      <td>Anees Bazmee</td>\n",
       "    </tr>\n",
       "    <tr>\n",
       "      <th>241</th>\n",
       "      <td>Welcome to Sajjanpur</td>\n",
       "      <td>2008</td>\n",
       "      <td>Shyam Benegal</td>\n",
       "    </tr>\n",
       "    <tr>\n",
       "      <th>242</th>\n",
       "      <td>Will You Marry Me</td>\n",
       "      <td>2012</td>\n",
       "      <td>Aditya Datt</td>\n",
       "    </tr>\n",
       "    <tr>\n",
       "      <th>243</th>\n",
       "      <td>Yaad Rakhegi Duniya</td>\n",
       "      <td>1992</td>\n",
       "      <td>Deepak Anand</td>\n",
       "    </tr>\n",
       "    <tr>\n",
       "      <th>244</th>\n",
       "      <td>Yuvvraaj</td>\n",
       "      <td>2008</td>\n",
       "      <td>Subhash Ghai</td>\n",
       "    </tr>\n",
       "  </tbody>\n",
       "</table>\n",
       "<p>245 rows × 3 columns</p>\n",
       "</div>"
      ],
      "text/plain": [
       "                    title  cyear             Name\n",
       "0               100% Love   2012      Rabi Kinagi\n",
       "1             3 Bachelors   2012       Ajai Sinha\n",
       "2                      99      0     Krishna D.K.\n",
       "3           A Flying Jatt   2016     Remo D'Souza\n",
       "4          Ab Ayega Mazaa   1984  Pankaj Parashar\n",
       "..                    ...    ...              ...\n",
       "240               Welcome      0     Anees Bazmee\n",
       "241  Welcome to Sajjanpur   2008    Shyam Benegal\n",
       "242     Will You Marry Me   2012      Aditya Datt\n",
       "243   Yaad Rakhegi Duniya   1992     Deepak Anand\n",
       "244              Yuvvraaj   2008     Subhash Ghai\n",
       "\n",
       "[245 rows x 3 columns]"
      ]
     },
     "execution_count": 12,
     "metadata": {
      "tags": []
     },
     "output_type": "execute_result"
    }
   ],
   "source": [
    "pd.read_sql_query(\"SELECT m.title, cast(m.year AS INTEGER) as cyear, p.Name FROM Movie m, Person p, Genre g INNER JOIN M_Director md ON md.MID = m.MID AND md.PID = p.PID INNER JOIN M_Genre mg ON mg.MID = m.MID AND mg.GID = g.GID  WHERE g.Name LIKE '%Comedy%' AND ((cyear % 4 = 0 AND cyear % 100 !=0) OR cyear % 400 =0) GROUP BY m.title\", con)"
   ]
  },
  {
   "cell_type": "markdown",
   "metadata": {
    "id": "eiJ4qrEU6sG7"
   },
   "source": [
    "**2. List the names of all the actors who played in the movie 'Anand' (1971)**\n"
   ]
  },
  {
   "cell_type": "code",
   "execution_count": null,
   "metadata": {
    "colab": {
     "base_uri": "https://localhost:8080/",
     "height": 49
    },
    "id": "0kQUO3WsL7B6",
    "outputId": "ace1d89f-a3f4-4715-f121-efd635dce773"
   },
   "outputs": [
    {
     "data": {
      "text/html": [
       "<div>\n",
       "<style scoped>\n",
       "    .dataframe tbody tr th:only-of-type {\n",
       "        vertical-align: middle;\n",
       "    }\n",
       "\n",
       "    .dataframe tbody tr th {\n",
       "        vertical-align: top;\n",
       "    }\n",
       "\n",
       "    .dataframe thead th {\n",
       "        text-align: right;\n",
       "    }\n",
       "</style>\n",
       "<table border=\"1\" class=\"dataframe\">\n",
       "  <thead>\n",
       "    <tr style=\"text-align: right;\">\n",
       "      <th></th>\n",
       "      <th>Name</th>\n",
       "    </tr>\n",
       "  </thead>\n",
       "  <tbody>\n",
       "  </tbody>\n",
       "</table>\n",
       "</div>"
      ],
      "text/plain": [
       "Empty DataFrame\n",
       "Columns: [Name]\n",
       "Index: []"
      ]
     },
     "execution_count": 13,
     "metadata": {
      "tags": []
     },
     "output_type": "execute_result"
    }
   ],
   "source": [
    "#why this code is not worked for me\n",
    "pd.read_sql_query(\"SELECT Name FROM Person WHERE PID IN (SELECT PID FROM M_Cast WHERE MID IN (SELECT MID FROM Movie where title='Anand'))\",con)"
   ]
  },
  {
   "cell_type": "code",
   "execution_count": null,
   "metadata": {
    "colab": {
     "base_uri": "https://localhost:8080/",
     "height": 576
    },
    "id": "FTbhiORurKMl",
    "outputId": "07912ff2-2c40-4286-a413-0ac1ac783551"
   },
   "outputs": [
    {
     "data": {
      "text/html": [
       "<div>\n",
       "<style scoped>\n",
       "    .dataframe tbody tr th:only-of-type {\n",
       "        vertical-align: middle;\n",
       "    }\n",
       "\n",
       "    .dataframe tbody tr th {\n",
       "        vertical-align: top;\n",
       "    }\n",
       "\n",
       "    .dataframe thead th {\n",
       "        text-align: right;\n",
       "    }\n",
       "</style>\n",
       "<table border=\"1\" class=\"dataframe\">\n",
       "  <thead>\n",
       "    <tr style=\"text-align: right;\">\n",
       "      <th></th>\n",
       "      <th>Name</th>\n",
       "    </tr>\n",
       "  </thead>\n",
       "  <tbody>\n",
       "    <tr>\n",
       "      <th>0</th>\n",
       "      <td>Amitabh Bachchan</td>\n",
       "    </tr>\n",
       "    <tr>\n",
       "      <th>1</th>\n",
       "      <td>Rajesh Khanna</td>\n",
       "    </tr>\n",
       "    <tr>\n",
       "      <th>2</th>\n",
       "      <td>Sumita Sanyal</td>\n",
       "    </tr>\n",
       "    <tr>\n",
       "      <th>3</th>\n",
       "      <td>Ramesh Deo</td>\n",
       "    </tr>\n",
       "    <tr>\n",
       "      <th>4</th>\n",
       "      <td>Seema Deo</td>\n",
       "    </tr>\n",
       "    <tr>\n",
       "      <th>5</th>\n",
       "      <td>Asit Kumar Sen</td>\n",
       "    </tr>\n",
       "    <tr>\n",
       "      <th>6</th>\n",
       "      <td>Dev Kishan</td>\n",
       "    </tr>\n",
       "    <tr>\n",
       "      <th>7</th>\n",
       "      <td>Atam Prakash</td>\n",
       "    </tr>\n",
       "    <tr>\n",
       "      <th>8</th>\n",
       "      <td>Lalita Kumari</td>\n",
       "    </tr>\n",
       "    <tr>\n",
       "      <th>9</th>\n",
       "      <td>Savita</td>\n",
       "    </tr>\n",
       "    <tr>\n",
       "      <th>10</th>\n",
       "      <td>Brahm Bhardwaj</td>\n",
       "    </tr>\n",
       "    <tr>\n",
       "      <th>11</th>\n",
       "      <td>Gurnam Singh</td>\n",
       "    </tr>\n",
       "    <tr>\n",
       "      <th>12</th>\n",
       "      <td>Lalita Pawar</td>\n",
       "    </tr>\n",
       "    <tr>\n",
       "      <th>13</th>\n",
       "      <td>Durga Khote</td>\n",
       "    </tr>\n",
       "    <tr>\n",
       "      <th>14</th>\n",
       "      <td>Dara Singh</td>\n",
       "    </tr>\n",
       "    <tr>\n",
       "      <th>15</th>\n",
       "      <td>Johnny Walker</td>\n",
       "    </tr>\n",
       "    <tr>\n",
       "      <th>16</th>\n",
       "      <td>Moolchand</td>\n",
       "    </tr>\n",
       "  </tbody>\n",
       "</table>\n",
       "</div>"
      ],
      "text/plain": [
       "                 Name\n",
       "0    Amitabh Bachchan\n",
       "1       Rajesh Khanna\n",
       "2       Sumita Sanyal\n",
       "3          Ramesh Deo\n",
       "4           Seema Deo\n",
       "5      Asit Kumar Sen\n",
       "6          Dev Kishan\n",
       "7        Atam Prakash\n",
       "8       Lalita Kumari\n",
       "9              Savita\n",
       "10     Brahm Bhardwaj\n",
       "11       Gurnam Singh\n",
       "12       Lalita Pawar\n",
       "13        Durga Khote\n",
       "14         Dara Singh\n",
       "15      Johnny Walker\n",
       "16          Moolchand"
      ]
     },
     "execution_count": 15,
     "metadata": {
      "tags": []
     },
     "output_type": "execute_result"
    }
   ],
   "source": [
    "pd.read_sql_query(\"SELECT p.Name FROM Movie m JOIN M_Cast mc ON m.MID=mc.MID JOIN Person p ON trim(mc.PID)=trim(p.PID) WHERE m.title='Anand' AND m.year=1971\", con)"
   ]
  },
  {
   "cell_type": "markdown",
   "metadata": {
    "id": "eUbY8omL5HRs"
   },
   "source": [
    "**3. List all the actors who acted in a film before 1970 and in a film after 1990. (That is: < 1970 and > 1990.)**"
   ]
  },
  {
   "cell_type": "code",
   "execution_count": null,
   "metadata": {
    "colab": {
     "base_uri": "https://localhost:8080/",
     "height": 49
    },
    "id": "DiP6xBWB6MEk",
    "outputId": "792058f2-1ed8-4849-bef1-78bd7f46e494"
   },
   "outputs": [
    {
     "data": {
      "text/html": [
       "<div>\n",
       "<style scoped>\n",
       "    .dataframe tbody tr th:only-of-type {\n",
       "        vertical-align: middle;\n",
       "    }\n",
       "\n",
       "    .dataframe tbody tr th {\n",
       "        vertical-align: top;\n",
       "    }\n",
       "\n",
       "    .dataframe thead th {\n",
       "        text-align: right;\n",
       "    }\n",
       "</style>\n",
       "<table border=\"1\" class=\"dataframe\">\n",
       "  <thead>\n",
       "    <tr style=\"text-align: right;\">\n",
       "      <th></th>\n",
       "      <th>Name</th>\n",
       "    </tr>\n",
       "  </thead>\n",
       "  <tbody>\n",
       "  </tbody>\n",
       "</table>\n",
       "</div>"
      ],
      "text/plain": [
       "Empty DataFrame\n",
       "Columns: [Name]\n",
       "Index: []"
      ]
     },
     "execution_count": 17,
     "metadata": {
      "tags": []
     },
     "output_type": "execute_result"
    }
   ],
   "source": [
    "#why this code is not worked for me //////? \n",
    "pd.read_sql_query(\"SELECT Name FROM Person WHERE PID IN ((SELECT PID FROM M_Cast WHERE MID IN (SELECT MID FROM movie WHERE year<1970)) AND (SELECT PID FROM M_Cast WHERE MID IN (SELECT MID FROM movie WHERE year> 1990)))\",con)"
   ]
  },
  {
   "cell_type": "code",
   "execution_count": null,
   "metadata": {
    "colab": {
     "base_uri": "https://localhost:8080/",
     "height": 419
    },
    "id": "UfmOp6XfspiH",
    "outputId": "8815b593-e407-423b-f491-b68b38c663a5"
   },
   "outputs": [
    {
     "data": {
      "text/html": [
       "<div>\n",
       "<style scoped>\n",
       "    .dataframe tbody tr th:only-of-type {\n",
       "        vertical-align: middle;\n",
       "    }\n",
       "\n",
       "    .dataframe tbody tr th {\n",
       "        vertical-align: top;\n",
       "    }\n",
       "\n",
       "    .dataframe thead th {\n",
       "        text-align: right;\n",
       "    }\n",
       "</style>\n",
       "<table border=\"1\" class=\"dataframe\">\n",
       "  <thead>\n",
       "    <tr style=\"text-align: right;\">\n",
       "      <th></th>\n",
       "      <th>pid</th>\n",
       "      <th>Name</th>\n",
       "    </tr>\n",
       "  </thead>\n",
       "  <tbody>\n",
       "    <tr>\n",
       "      <th>0</th>\n",
       "      <td>nm0000821</td>\n",
       "      <td>Amitabh Bachchan</td>\n",
       "    </tr>\n",
       "    <tr>\n",
       "      <th>1</th>\n",
       "      <td>nm0003987</td>\n",
       "      <td>Mohandas K. Gandhi</td>\n",
       "    </tr>\n",
       "    <tr>\n",
       "      <th>2</th>\n",
       "      <td>nm0004292</td>\n",
       "      <td>Raj Kapoor</td>\n",
       "    </tr>\n",
       "    <tr>\n",
       "      <th>3</th>\n",
       "      <td>nm0004334</td>\n",
       "      <td>Rekha</td>\n",
       "    </tr>\n",
       "    <tr>\n",
       "      <th>4</th>\n",
       "      <td>nm0004429</td>\n",
       "      <td>Dharmendra</td>\n",
       "    </tr>\n",
       "    <tr>\n",
       "      <th>...</th>\n",
       "      <td>...</td>\n",
       "      <td>...</td>\n",
       "    </tr>\n",
       "    <tr>\n",
       "      <th>328</th>\n",
       "      <td>nm2983292</td>\n",
       "      <td>Mohamad Ali</td>\n",
       "    </tr>\n",
       "    <tr>\n",
       "      <th>329</th>\n",
       "      <td>nm4563339</td>\n",
       "      <td>Dube</td>\n",
       "    </tr>\n",
       "    <tr>\n",
       "      <th>330</th>\n",
       "      <td>nm7390393</td>\n",
       "      <td>Aachi Manorama</td>\n",
       "    </tr>\n",
       "    <tr>\n",
       "      <th>331</th>\n",
       "      <td>nm9036653</td>\n",
       "      <td>Surendra Rahi</td>\n",
       "    </tr>\n",
       "    <tr>\n",
       "      <th>332</th>\n",
       "      <td>nm9045541</td>\n",
       "      <td>Shirley</td>\n",
       "    </tr>\n",
       "  </tbody>\n",
       "</table>\n",
       "<p>333 rows × 2 columns</p>\n",
       "</div>"
      ],
      "text/plain": [
       "           pid                 Name\n",
       "0    nm0000821     Amitabh Bachchan\n",
       "1    nm0003987   Mohandas K. Gandhi\n",
       "2    nm0004292           Raj Kapoor\n",
       "3    nm0004334                Rekha\n",
       "4    nm0004429           Dharmendra\n",
       "..         ...                  ...\n",
       "328  nm2983292          Mohamad Ali\n",
       "329  nm4563339                 Dube\n",
       "330  nm7390393       Aachi Manorama\n",
       "331  nm9036653        Surendra Rahi\n",
       "332  nm9045541              Shirley\n",
       "\n",
       "[333 rows x 2 columns]"
      ]
     },
     "execution_count": 18,
     "metadata": {
      "tags": []
     },
     "output_type": "execute_result"
    }
   ],
   "source": [
    "pd.read_sql_query(\"SELECT DISTINCT trim(p.PID) as pid, p.Name FROM Movie m JOIN M_Cast mc ON m.MID = mc.MID JOIN Person p ON trim(mc.PID) = trim(p.PID) WHERE m.year > 1990 AND trim(p.PID) IN (SELECT DISTINCT trim(p.PID) as pid FROM Movie m JOIN M_Cast mc ON m.MID = mc.MID JOIN Person p ON trim(mc.PID) = trim(p.PID) WHERE m.year < 1970) GROUP BY trim(p.PID)\",con)"
   ]
  },
  {
   "cell_type": "markdown",
   "metadata": {
    "id": "6Wh3gydDJQn0"
   },
   "source": [
    "**4. List all directors who directed 10 movies or more, in descending order of the number of movies they directed. Return the directors' names and the number of movies each of them directed.** "
   ]
  },
  {
   "cell_type": "code",
   "execution_count": null,
   "metadata": {
    "colab": {
     "base_uri": "https://localhost:8080/",
     "height": 419
    },
    "id": "eVpeyd4hqiun",
    "outputId": "3545334d-6dd5-4d75-fa6b-4758ef754300"
   },
   "outputs": [
    {
     "data": {
      "text/html": [
       "<div>\n",
       "<style scoped>\n",
       "    .dataframe tbody tr th:only-of-type {\n",
       "        vertical-align: middle;\n",
       "    }\n",
       "\n",
       "    .dataframe tbody tr th {\n",
       "        vertical-align: top;\n",
       "    }\n",
       "\n",
       "    .dataframe thead th {\n",
       "        text-align: right;\n",
       "    }\n",
       "</style>\n",
       "<table border=\"1\" class=\"dataframe\">\n",
       "  <thead>\n",
       "    <tr style=\"text-align: right;\">\n",
       "      <th></th>\n",
       "      <th>Name</th>\n",
       "      <th>movieCount</th>\n",
       "    </tr>\n",
       "  </thead>\n",
       "  <tbody>\n",
       "    <tr>\n",
       "      <th>0</th>\n",
       "      <td>David Dhawan</td>\n",
       "      <td>78</td>\n",
       "    </tr>\n",
       "    <tr>\n",
       "      <th>1</th>\n",
       "      <td>Mahesh Bhatt</td>\n",
       "      <td>70</td>\n",
       "    </tr>\n",
       "    <tr>\n",
       "      <th>2</th>\n",
       "      <td>Ram Gopal Varma</td>\n",
       "      <td>60</td>\n",
       "    </tr>\n",
       "    <tr>\n",
       "      <th>3</th>\n",
       "      <td>Vikram Bhatt</td>\n",
       "      <td>58</td>\n",
       "    </tr>\n",
       "    <tr>\n",
       "      <th>4</th>\n",
       "      <td>Hrishikesh Mukherjee</td>\n",
       "      <td>54</td>\n",
       "    </tr>\n",
       "    <tr>\n",
       "      <th>...</th>\n",
       "      <td>...</td>\n",
       "      <td>...</td>\n",
       "    </tr>\n",
       "    <tr>\n",
       "      <th>151</th>\n",
       "      <td>Siddharth Anand</td>\n",
       "      <td>10</td>\n",
       "    </tr>\n",
       "    <tr>\n",
       "      <th>152</th>\n",
       "      <td>Dibakar Banerjee</td>\n",
       "      <td>10</td>\n",
       "    </tr>\n",
       "    <tr>\n",
       "      <th>153</th>\n",
       "      <td>Shoojit Sircar</td>\n",
       "      <td>10</td>\n",
       "    </tr>\n",
       "    <tr>\n",
       "      <th>154</th>\n",
       "      <td>R. Balki</td>\n",
       "      <td>10</td>\n",
       "    </tr>\n",
       "    <tr>\n",
       "      <th>155</th>\n",
       "      <td>Neeraj Pandey</td>\n",
       "      <td>10</td>\n",
       "    </tr>\n",
       "  </tbody>\n",
       "</table>\n",
       "<p>156 rows × 2 columns</p>\n",
       "</div>"
      ],
      "text/plain": [
       "                     Name  movieCount\n",
       "0            David Dhawan          78\n",
       "1            Mahesh Bhatt          70\n",
       "2         Ram Gopal Varma          60\n",
       "3            Vikram Bhatt          58\n",
       "4    Hrishikesh Mukherjee          54\n",
       "..                    ...         ...\n",
       "151       Siddharth Anand          10\n",
       "152      Dibakar Banerjee          10\n",
       "153        Shoojit Sircar          10\n",
       "154              R. Balki          10\n",
       "155         Neeraj Pandey          10\n",
       "\n",
       "[156 rows x 2 columns]"
      ]
     },
     "execution_count": 19,
     "metadata": {
      "tags": []
     },
     "output_type": "execute_result"
    }
   ],
   "source": [
    "pd.read_sql_query(\"SELECT p.Name, count(md.ID) movieCount FROM M_Director md JOIN Person p ON md.PID=p.PID GROUP BY md.PID HAVING movieCount >= 10 ORDER BY movieCount DESC\",con)"
   ]
  },
  {
   "cell_type": "markdown",
   "metadata": {
    "id": "9-bi0ZRYuO39"
   },
   "source": [
    "**5.** \n",
    "- **a.** For each year, count the number of movies in that year that had only female actors.\n",
    "- **b.** Now include a small change: report for each year the percentage of movies in that year with only female actors, and the total number of movies made that year. For example, one answer will be: 1990 31.81 13522 meaning that in 1990 there were 13,522 movies, and 31.81% had only female actors. You do not need to round your answer.**"
   ]
  },
  {
   "cell_type": "code",
   "execution_count": null,
   "metadata": {
    "colab": {
     "base_uri": "https://localhost:8080/",
     "height": 266
    },
    "id": "VDmGnI4bumNb",
    "outputId": "33e321a6-32f9-4b4d-ce19-8f3afe741d39"
   },
   "outputs": [
    {
     "data": {
      "text/html": [
       "<div>\n",
       "<style scoped>\n",
       "    .dataframe tbody tr th:only-of-type {\n",
       "        vertical-align: middle;\n",
       "    }\n",
       "\n",
       "    .dataframe tbody tr th {\n",
       "        vertical-align: top;\n",
       "    }\n",
       "\n",
       "    .dataframe thead th {\n",
       "        text-align: right;\n",
       "    }\n",
       "</style>\n",
       "<table border=\"1\" class=\"dataframe\">\n",
       "  <thead>\n",
       "    <tr style=\"text-align: right;\">\n",
       "      <th></th>\n",
       "      <th>movie_count</th>\n",
       "      <th>movie_year</th>\n",
       "    </tr>\n",
       "  </thead>\n",
       "  <tbody>\n",
       "    <tr>\n",
       "      <th>0</th>\n",
       "      <td>1</td>\n",
       "      <td>1939</td>\n",
       "    </tr>\n",
       "    <tr>\n",
       "      <th>1</th>\n",
       "      <td>1</td>\n",
       "      <td>1999</td>\n",
       "    </tr>\n",
       "    <tr>\n",
       "      <th>2</th>\n",
       "      <td>1</td>\n",
       "      <td>2000</td>\n",
       "    </tr>\n",
       "    <tr>\n",
       "      <th>3</th>\n",
       "      <td>1</td>\n",
       "      <td>2009</td>\n",
       "    </tr>\n",
       "    <tr>\n",
       "      <th>4</th>\n",
       "      <td>1</td>\n",
       "      <td>2012</td>\n",
       "    </tr>\n",
       "    <tr>\n",
       "      <th>5</th>\n",
       "      <td>1</td>\n",
       "      <td>2018</td>\n",
       "    </tr>\n",
       "    <tr>\n",
       "      <th>6</th>\n",
       "      <td>1</td>\n",
       "      <td>I 2018</td>\n",
       "    </tr>\n",
       "  </tbody>\n",
       "</table>\n",
       "</div>"
      ],
      "text/plain": [
       "   movie_count movie_year\n",
       "0            1       1939\n",
       "1            1       1999\n",
       "2            1       2000\n",
       "3            1       2009\n",
       "4            1       2012\n",
       "5            1       2018\n",
       "6            1     I 2018"
      ]
     },
     "execution_count": 27,
     "metadata": {
      "tags": []
     },
     "output_type": "execute_result"
    }
   ],
   "source": [
    "pd.read_sql_query(\"SELECT count(m.year) movie_count, m.year as movie_year FROM Movie m where m.MID not in (SELECT mc.MID FROM Person p JOIN M_Cast mc ON trim(p.PID)=trim(mc.PID) WHERE p.Gender='Male') GROUP BY movie_year ORDER BY movie_count DESC\", con)"
   ]
  },
  {
   "cell_type": "code",
   "execution_count": null,
   "metadata": {
    "colab": {
     "base_uri": "https://localhost:8080/",
     "height": 266
    },
    "id": "WTDCe3qK1EVN",
    "outputId": "f0be2a0e-c532-41e6-8b67-7d553a187237"
   },
   "outputs": [
    {
     "data": {
      "text/html": [
       "<div>\n",
       "<style scoped>\n",
       "    .dataframe tbody tr th:only-of-type {\n",
       "        vertical-align: middle;\n",
       "    }\n",
       "\n",
       "    .dataframe tbody tr th {\n",
       "        vertical-align: top;\n",
       "    }\n",
       "\n",
       "    .dataframe thead th {\n",
       "        text-align: right;\n",
       "    }\n",
       "</style>\n",
       "<table border=\"1\" class=\"dataframe\">\n",
       "  <thead>\n",
       "    <tr style=\"text-align: right;\">\n",
       "      <th></th>\n",
       "      <th>movie_count</th>\n",
       "      <th>movie_year</th>\n",
       "      <th>Percent</th>\n",
       "    </tr>\n",
       "  </thead>\n",
       "  <tbody>\n",
       "    <tr>\n",
       "      <th>0</th>\n",
       "      <td>2</td>\n",
       "      <td>1939</td>\n",
       "      <td>50.000000</td>\n",
       "    </tr>\n",
       "    <tr>\n",
       "      <th>1</th>\n",
       "      <td>66</td>\n",
       "      <td>1999</td>\n",
       "      <td>1.515152</td>\n",
       "    </tr>\n",
       "    <tr>\n",
       "      <th>2</th>\n",
       "      <td>64</td>\n",
       "      <td>2000</td>\n",
       "      <td>1.562500</td>\n",
       "    </tr>\n",
       "    <tr>\n",
       "      <th>3</th>\n",
       "      <td>100</td>\n",
       "      <td>2009</td>\n",
       "      <td>1.000000</td>\n",
       "    </tr>\n",
       "    <tr>\n",
       "      <th>4</th>\n",
       "      <td>109</td>\n",
       "      <td>2012</td>\n",
       "      <td>0.917431</td>\n",
       "    </tr>\n",
       "    <tr>\n",
       "      <th>5</th>\n",
       "      <td>93</td>\n",
       "      <td>2018</td>\n",
       "      <td>1.075269</td>\n",
       "    </tr>\n",
       "    <tr>\n",
       "      <th>6</th>\n",
       "      <td>10</td>\n",
       "      <td>I 2018</td>\n",
       "      <td>10.000000</td>\n",
       "    </tr>\n",
       "  </tbody>\n",
       "</table>\n",
       "</div>"
      ],
      "text/plain": [
       "   movie_count movie_year    Percent\n",
       "0            2       1939  50.000000\n",
       "1           66       1999   1.515152\n",
       "2           64       2000   1.562500\n",
       "3          100       2009   1.000000\n",
       "4          109       2012   0.917431\n",
       "5           93       2018   1.075269\n",
       "6           10     I 2018  10.000000"
      ]
     },
     "execution_count": 29,
     "metadata": {
      "tags": []
     },
     "output_type": "execute_result"
    }
   ],
   "source": [
    "pd.read_sql_query(\n",
    "            '''\n",
    "            SELECT y.allMov as 'movie_count', x.year as movie_year, ((x.Movies_Cnt*100.0)/y.allMov) as Percent FROM\n",
    "            (SELECT count(*) Movies_Cnt , m.year\n",
    "            FROM Movie m where m.MID not in\n",
    "            (SELECT mc.MID FROM Person p JOIN M_Cast mc ON trim(p.PID) = trim(mc.PID) WHERE p.Gender='Male')\n",
    "            GROUP BY m.year) x INNER JOIN\n",
    "            (SELECT count(*) allMov, m.year\n",
    "            FROM Movie m\n",
    "            GROUP BY m.year) y on x.year=y.year\n",
    "            ''', con)"
   ]
  },
  {
   "cell_type": "markdown",
   "metadata": {
    "id": "Fd70EpLs1esE"
   },
   "source": [
    "**6. Find the film(s) with the largest cast. Return the movie title and the size of the cast. By \"cast size\" we mean the number of distinct actors that played in that movie: if an actor played multiple roles, or if it simply occurs multiple times in casts, we still count her/him only once.**"
   ]
  },
  {
   "cell_type": "code",
   "execution_count": null,
   "metadata": {
    "colab": {
     "base_uri": "https://localhost:8080/",
     "height": 80
    },
    "id": "BX88yetb1kqA",
    "outputId": "6a2ef384-90b4-4c0b-8632-1693b0f0e3b4"
   },
   "outputs": [
    {
     "data": {
      "text/html": [
       "<div>\n",
       "<style scoped>\n",
       "    .dataframe tbody tr th:only-of-type {\n",
       "        vertical-align: middle;\n",
       "    }\n",
       "\n",
       "    .dataframe tbody tr th {\n",
       "        vertical-align: top;\n",
       "    }\n",
       "\n",
       "    .dataframe thead th {\n",
       "        text-align: right;\n",
       "    }\n",
       "</style>\n",
       "<table border=\"1\" class=\"dataframe\">\n",
       "  <thead>\n",
       "    <tr style=\"text-align: right;\">\n",
       "      <th></th>\n",
       "      <th>cast_count</th>\n",
       "      <th>title</th>\n",
       "    </tr>\n",
       "  </thead>\n",
       "  <tbody>\n",
       "    <tr>\n",
       "      <th>0</th>\n",
       "      <td>238</td>\n",
       "      <td>Ocean's Eight</td>\n",
       "    </tr>\n",
       "  </tbody>\n",
       "</table>\n",
       "</div>"
      ],
      "text/plain": [
       "   cast_count          title\n",
       "0         238  Ocean's Eight"
      ]
     },
     "execution_count": 30,
     "metadata": {
      "tags": []
     },
     "output_type": "execute_result"
    }
   ],
   "source": [
    "pd.read_sql_query(\n",
    "            '''\n",
    "            SELECT count(DISTINCT mc.PId) as cast_count, m.title FROM Movie m\n",
    "            JOIN M_Cast mc ON m.MID=mc.MID\n",
    "            JOIN Person p ON trim(mc.PID)=trim(p.PID)\n",
    "            GROUP BY m.MID\n",
    "            ORDER BY cast_count DESC limit 1\n",
    "            ''', con)"
   ]
  },
  {
   "cell_type": "markdown",
   "metadata": {
    "id": "xnWvtXiF2Uss"
   },
   "source": [
    "**7. A decade is a sequence of 10 consecutive years. For example, say in your database you have movie information starting from 1965. Then the first decade is 1965, 1966, ..., 1974; the second one is 1967, 1968, ..., 1976 and so on. Find the decade D with the largest number of films and the total number of films in D.**"
   ]
  },
  {
   "cell_type": "code",
   "execution_count": null,
   "metadata": {
    "colab": {
     "base_uri": "https://localhost:8080/",
     "height": 80
    },
    "id": "3gBLoqbu2xZZ",
    "outputId": "599924f1-a703-48fc-b0cb-36f5f2eeb63b"
   },
   "outputs": [
    {
     "data": {
      "text/html": [
       "<div>\n",
       "<style scoped>\n",
       "    .dataframe tbody tr th:only-of-type {\n",
       "        vertical-align: middle;\n",
       "    }\n",
       "\n",
       "    .dataframe tbody tr th {\n",
       "        vertical-align: top;\n",
       "    }\n",
       "\n",
       "    .dataframe thead th {\n",
       "        text-align: right;\n",
       "    }\n",
       "</style>\n",
       "<table border=\"1\" class=\"dataframe\">\n",
       "  <thead>\n",
       "    <tr style=\"text-align: right;\">\n",
       "      <th></th>\n",
       "      <th>start</th>\n",
       "      <th>end</th>\n",
       "      <th>total_movies</th>\n",
       "    </tr>\n",
       "  </thead>\n",
       "  <tbody>\n",
       "    <tr>\n",
       "      <th>0</th>\n",
       "      <td>2008</td>\n",
       "      <td>2017</td>\n",
       "      <td>1128</td>\n",
       "    </tr>\n",
       "  </tbody>\n",
       "</table>\n",
       "</div>"
      ],
      "text/plain": [
       "  start   end  total_movies\n",
       "0  2008  2017          1128"
      ]
     },
     "execution_count": 31,
     "metadata": {
      "tags": []
     },
     "output_type": "execute_result"
    }
   ],
   "source": [
    "pd.read_sql_query('''\n",
    "            SELECT d_year.year AS start, d_year.year+9 AS end, count(1) AS total_movies FROM\n",
    "            (SELECT DISTINCT(year) FROM Movie) d_year\n",
    "            JOIN Movie m WHERE m.year>=start AND m.year<=end\n",
    "            GROUP BY end\n",
    "            ORDER BY total_movies DESC\n",
    "            LIMIT 1\n",
    "            ''', con)"
   ]
  },
  {
   "cell_type": "markdown",
   "metadata": {
    "id": "HqonE0ea2-R0"
   },
   "source": [
    "**8. Find the actors that were never unemployed for more than 3 years at a stretch. (Assume that the actors remain unemployed between two consecutive movies).**"
   ]
  },
  {
   "cell_type": "code",
   "execution_count": null,
   "metadata": {
    "colab": {
     "base_uri": "https://localhost:8080/",
     "height": 419
    },
    "id": "7NcXcoToBB-0",
    "outputId": "59135bd3-1236-48ee-88bc-5ab20fc4507c"
   },
   "outputs": [
    {
     "data": {
      "text/html": [
       "<div>\n",
       "<style scoped>\n",
       "    .dataframe tbody tr th:only-of-type {\n",
       "        vertical-align: middle;\n",
       "    }\n",
       "\n",
       "    .dataframe tbody tr th {\n",
       "        vertical-align: top;\n",
       "    }\n",
       "\n",
       "    .dataframe thead th {\n",
       "        text-align: right;\n",
       "    }\n",
       "</style>\n",
       "<table border=\"1\" class=\"dataframe\">\n",
       "  <thead>\n",
       "    <tr style=\"text-align: right;\">\n",
       "      <th></th>\n",
       "      <th>Name</th>\n",
       "    </tr>\n",
       "  </thead>\n",
       "  <tbody>\n",
       "    <tr>\n",
       "      <th>0</th>\n",
       "      <td>Christian Bale</td>\n",
       "    </tr>\n",
       "    <tr>\n",
       "      <th>1</th>\n",
       "      <td>Cate Blanchett</td>\n",
       "    </tr>\n",
       "    <tr>\n",
       "      <th>2</th>\n",
       "      <td>Benedict Cumberbatch</td>\n",
       "    </tr>\n",
       "    <tr>\n",
       "      <th>3</th>\n",
       "      <td>Naomie Harris</td>\n",
       "    </tr>\n",
       "    <tr>\n",
       "      <th>4</th>\n",
       "      <td>Andy Serkis</td>\n",
       "    </tr>\n",
       "    <tr>\n",
       "      <th>...</th>\n",
       "      <td>...</td>\n",
       "    </tr>\n",
       "    <tr>\n",
       "      <th>38280</th>\n",
       "      <td>Kannan</td>\n",
       "    </tr>\n",
       "    <tr>\n",
       "      <th>38281</th>\n",
       "      <td>Adrian Fulle</td>\n",
       "    </tr>\n",
       "    <tr>\n",
       "      <th>38282</th>\n",
       "      <td>Gulshan Kumar</td>\n",
       "    </tr>\n",
       "    <tr>\n",
       "      <th>38283</th>\n",
       "      <td>Iqbal</td>\n",
       "    </tr>\n",
       "    <tr>\n",
       "      <th>38284</th>\n",
       "      <td>Sushma Shiromani</td>\n",
       "    </tr>\n",
       "  </tbody>\n",
       "</table>\n",
       "<p>38285 rows × 1 columns</p>\n",
       "</div>"
      ],
      "text/plain": [
       "                        Name\n",
       "0             Christian Bale\n",
       "1             Cate Blanchett\n",
       "2       Benedict Cumberbatch\n",
       "3              Naomie Harris\n",
       "4                Andy Serkis\n",
       "...                      ...\n",
       "38280                 Kannan\n",
       "38281           Adrian Fulle\n",
       "38282          Gulshan Kumar\n",
       "38283                  Iqbal\n",
       "38284       Sushma Shiromani\n",
       "\n",
       "[38285 rows x 1 columns]"
      ]
     },
     "execution_count": 39,
     "metadata": {
      "tags": []
     },
     "output_type": "execute_result"
    }
   ],
   "source": [
    "pd.read_sql_query(\"select p1.Name from Person p1 where p1.pid not in (select distinct(mc1.pid) from M_Cast as mc1 join Movie as m1 on mc1.mid=m1.mid where\\\n",
    "      exists(select mc2.mid from M_Cast as mc2 join Movie as m2 on mc2.mid=m2.mid where trim(mc1.PID) = trim(mc2.PID) and (substr(m2.year,-4,4) - 3) > substr(m1.year,-4,4) and\\\n",
    "      not exists(select trim(mc3.MID) from M_Cast as mc3 join Movie as m3 on mc3.mid=m3.mid where trim(mc1.PID) = trim(mc3.PID) and substr(m1.year,-4,4) < substr(m3.year,-4,4) and\\\n",
    "      substr(m3.year,-4,4) < substr(m2.year,-4,4))));\",con)"
   ]
  },
  {
   "cell_type": "markdown",
   "metadata": {
    "id": "wYzMcsVq3g5y"
   },
   "source": [
    "**9.Find all the actors that made more movies with Yash Chopra than any other director.**"
   ]
  },
  {
   "cell_type": "code",
   "execution_count": null,
   "metadata": {
    "colab": {
     "base_uri": "https://localhost:8080/",
     "height": 402
    },
    "id": "R6wsVxgw30Yh",
    "outputId": "2cdcfdf6-b44a-4bda-af84-1e84b8adc04f"
   },
   "outputs": [
    {
     "data": {
      "text/html": [
       "<div>\n",
       "<style scoped>\n",
       "    .dataframe tbody tr th:only-of-type {\n",
       "        vertical-align: middle;\n",
       "    }\n",
       "\n",
       "    .dataframe tbody tr th {\n",
       "        vertical-align: top;\n",
       "    }\n",
       "\n",
       "    .dataframe thead th {\n",
       "        text-align: right;\n",
       "    }\n",
       "</style>\n",
       "<table border=\"1\" class=\"dataframe\">\n",
       "  <thead>\n",
       "    <tr style=\"text-align: right;\">\n",
       "      <th></th>\n",
       "      <th>Name</th>\n",
       "      <th>max_movies</th>\n",
       "    </tr>\n",
       "  </thead>\n",
       "  <tbody>\n",
       "    <tr>\n",
       "      <th>0</th>\n",
       "      <td>Jagdish Raj</td>\n",
       "      <td>11</td>\n",
       "    </tr>\n",
       "    <tr>\n",
       "      <th>1</th>\n",
       "      <td>Manmohan Krishna</td>\n",
       "      <td>10</td>\n",
       "    </tr>\n",
       "    <tr>\n",
       "      <th>2</th>\n",
       "      <td>Manmohan Krishna</td>\n",
       "      <td>10</td>\n",
       "    </tr>\n",
       "    <tr>\n",
       "      <th>3</th>\n",
       "      <td>Iftekhar</td>\n",
       "      <td>9</td>\n",
       "    </tr>\n",
       "    <tr>\n",
       "      <th>4</th>\n",
       "      <td>Shashi Kapoor</td>\n",
       "      <td>7</td>\n",
       "    </tr>\n",
       "    <tr>\n",
       "      <th>...</th>\n",
       "      <td>...</td>\n",
       "      <td>...</td>\n",
       "    </tr>\n",
       "    <tr>\n",
       "      <th>226</th>\n",
       "      <td>Naval</td>\n",
       "      <td>1</td>\n",
       "    </tr>\n",
       "    <tr>\n",
       "      <th>227</th>\n",
       "      <td>Prem Sood</td>\n",
       "      <td>1</td>\n",
       "    </tr>\n",
       "    <tr>\n",
       "      <th>228</th>\n",
       "      <td>Ramlal Shyamlal</td>\n",
       "      <td>1</td>\n",
       "    </tr>\n",
       "    <tr>\n",
       "      <th>229</th>\n",
       "      <td>Aziz Mirza</td>\n",
       "      <td>1</td>\n",
       "    </tr>\n",
       "    <tr>\n",
       "      <th>230</th>\n",
       "      <td>Raman Kumar</td>\n",
       "      <td>1</td>\n",
       "    </tr>\n",
       "  </tbody>\n",
       "</table>\n",
       "<p>231 rows × 2 columns</p>\n",
       "</div>"
      ],
      "text/plain": [
       "                  Name  max_movies\n",
       "0          Jagdish Raj          11\n",
       "1     Manmohan Krishna          10\n",
       "2     Manmohan Krishna          10\n",
       "3             Iftekhar           9\n",
       "4        Shashi Kapoor           7\n",
       "..                 ...         ...\n",
       "226              Naval           1\n",
       "227          Prem Sood           1\n",
       "228    Ramlal Shyamlal           1\n",
       "229         Aziz Mirza           1\n",
       "230        Raman Kumar           1\n",
       "\n",
       "[231 rows x 2 columns]"
      ]
     },
     "execution_count": 12,
     "metadata": {
      "tags": []
     },
     "output_type": "execute_result"
    }
   ],
   "source": [
    "pd.read_sql_query(\"SELECT p.NAME,max_movies FROM   person p INNER JOIN (SELECT director_pid,Max(movies) AS max_movies,actor_pid FROM (SELECT Count(mc.mid) AS Movies,md.pid AS Director_PID, mc.pid AS Actor_PID FROM m_director md INNER JOIN (SELECT * FROM m_cast WHERE Trim(pid) IN (SELECT Trim(pid) FROM m_cast WHERE Trim(mid) IN (SELECT Trim(mid)FROM m_director WHERE Trim(pid) = (SELECT Trim(pid)FROM person WHERE  NAME LIKE '%Yash Chopra%'))))as mc ON Trim(md.mid) = Trim(mc.mid)GROUP  BY actor_pid, director_pid)GROUP  BY actor_pid)ON Trim(p.pid) = Trim(actor_pid) WHERE  director_pid = (SELECT Trim(pid) FROM person WHERE  NAME LIKE '%Yash Chopra%')AND Trim(p.pid) <> (SELECT Trim(pid)FROM   person WHERE  NAME LIKE '%Yash Chopra%') ORDER  BY max_movies DESC\", con)"
   ]
  },
  {
   "cell_type": "markdown",
   "metadata": {
    "id": "H2FCoLDQ4JAr"
   },
   "source": [
    "**10 The Shahrukh number of an actor is the length of the shortest path between the actor and Shahrukh Khan in the \"co-acting\" graph. That is, Shahrukh Khan has Shahrukh number 0; all actors who acted in the same film as Shahrukh have Shahrukh number 1; all actors who acted in the same film as some actor with Shahrukh number 1 have Shahrukh number 2, etc. Return all actors whose Shahrukh number is 2.**"
   ]
  },
  {
   "cell_type": "code",
   "execution_count": null,
   "metadata": {
    "colab": {
     "base_uri": "https://localhost:8080/",
     "height": 402
    },
    "executionInfo": {
     "elapsed": 1325996,
     "status": "ok",
     "timestamp": 1609520797414,
     "user": {
      "displayName": "shankar gonti",
      "photoUrl": "",
      "userId": "07710941660107426028"
     },
     "user_tz": -330
    },
    "id": "4MCqNKiz1fq8",
    "outputId": "b5404e3a-cc7b-4d38-f058-5bc245d5e414"
   },
   "outputs": [
    {
     "data": {
      "text/html": [
       "<div>\n",
       "<style scoped>\n",
       "    .dataframe tbody tr th:only-of-type {\n",
       "        vertical-align: middle;\n",
       "    }\n",
       "\n",
       "    .dataframe tbody tr th {\n",
       "        vertical-align: top;\n",
       "    }\n",
       "\n",
       "    .dataframe thead th {\n",
       "        text-align: right;\n",
       "    }\n",
       "</style>\n",
       "<table border=\"1\" class=\"dataframe\">\n",
       "  <thead>\n",
       "    <tr style=\"text-align: right;\">\n",
       "      <th></th>\n",
       "      <th>Name</th>\n",
       "    </tr>\n",
       "  </thead>\n",
       "  <tbody>\n",
       "    <tr>\n",
       "      <th>0</th>\n",
       "      <td>Alicia Vikander</td>\n",
       "    </tr>\n",
       "    <tr>\n",
       "      <th>1</th>\n",
       "      <td>Dominic West</td>\n",
       "    </tr>\n",
       "    <tr>\n",
       "      <th>2</th>\n",
       "      <td>Walton Goggins</td>\n",
       "    </tr>\n",
       "    <tr>\n",
       "      <th>3</th>\n",
       "      <td>Daniel Wu</td>\n",
       "    </tr>\n",
       "    <tr>\n",
       "      <th>4</th>\n",
       "      <td>Kristin Scott Thomas</td>\n",
       "    </tr>\n",
       "    <tr>\n",
       "      <th>...</th>\n",
       "      <td>...</td>\n",
       "    </tr>\n",
       "    <tr>\n",
       "      <th>25964</th>\n",
       "      <td>Minoo Mehtab</td>\n",
       "    </tr>\n",
       "    <tr>\n",
       "      <th>25965</th>\n",
       "      <td>Hayley Cleghorn</td>\n",
       "    </tr>\n",
       "    <tr>\n",
       "      <th>25966</th>\n",
       "      <td>Nirvasha Jithoo</td>\n",
       "    </tr>\n",
       "    <tr>\n",
       "      <th>25967</th>\n",
       "      <td>Kamal Maharshi</td>\n",
       "    </tr>\n",
       "    <tr>\n",
       "      <th>25968</th>\n",
       "      <td>Mohini Manik</td>\n",
       "    </tr>\n",
       "  </tbody>\n",
       "</table>\n",
       "<p>25969 rows × 1 columns</p>\n",
       "</div>"
      ],
      "text/plain": [
       "                        Name\n",
       "0            Alicia Vikander\n",
       "1               Dominic West\n",
       "2             Walton Goggins\n",
       "3                  Daniel Wu\n",
       "4       Kristin Scott Thomas\n",
       "...                      ...\n",
       "25964           Minoo Mehtab\n",
       "25965        Hayley Cleghorn\n",
       "25966        Nirvasha Jithoo\n",
       "25967         Kamal Maharshi\n",
       "25968           Mohini Manik\n",
       "\n",
       "[25969 rows x 1 columns]"
      ]
     },
     "execution_count": 5,
     "metadata": {
      "tags": []
     },
     "output_type": "execute_result"
    }
   ],
   "source": [
    "pd.read_sql_query('''SELECT DISTINCT P.Name\n",
    "            FROM Person p\n",
    "                     JOIN M_Cast mc\n",
    "                          ON trim(p.PID) = trim(mc.PID)\n",
    "            WHERE mc.MID IN (SELECT mc.MID\n",
    "                             FROM M_Cast mc\n",
    "                             WHERE trim(mc.PID) IN (\n",
    "                                 SELECT trim(p.PID) as pid\n",
    "                                 FROM Person p\n",
    "                                          JOIN M_Cast mc\n",
    "                                               ON trim(p.PID) = trim(mc.PID)\n",
    "                                 WHERE mc.MID IN (\n",
    "                                     SELECT mc.MID\n",
    "                                     FROM Person p\n",
    "                                              JOIN M_Cast mc\n",
    "                                                   ON trim(p.PID) = trim(mc.PID)\n",
    "                                     WHERE trim(p.Name) LIKE '%shah rukh khan%'\n",
    "                                 )\n",
    "                                   AND trim(p.Name) NOT LIKE '%shah rukh khan%'\n",
    "                             )\n",
    "                               AND mc.MID NOT IN (SELECT mc.MID\n",
    "                                                  FROM Person p\n",
    "                                                           JOIN M_Cast mc\n",
    "                                                                ON trim(p.PID) = trim(mc.PID)\n",
    "                                                  WHERE trim(p.Name) LIKE '%shah rukh khan%'))\n",
    "            \n",
    "            ''', con)"
   ]
  }
 ],
 "metadata": {
  "colab": {
   "collapsed_sections": [],
   "name": "SQL_Assignment_on_IMDB_data_3.ipynb",
   "provenance": []
  },
  "kernelspec": {
   "display_name": "Python 3",
   "language": "python",
   "name": "python3"
  },
  "language_info": {
   "codemirror_mode": {
    "name": "ipython",
    "version": 3
   },
   "file_extension": ".py",
   "mimetype": "text/x-python",
   "name": "python",
   "nbconvert_exporter": "python",
   "pygments_lexer": "ipython3",
   "version": "3.8.8"
  }
 },
 "nbformat": 4,
 "nbformat_minor": 1
}
