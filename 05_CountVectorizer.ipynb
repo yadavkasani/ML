{
 "cells": [
  {
   "cell_type": "markdown",
   "metadata": {
    "id": "h9464I-uxLiw"
   },
   "source": [
    "# V04_Assignment_3_Instructions 15 Nov 2021\n",
    "\n",
    "### NOTES V04 Remarks: (Applied Roots Verification Done on 16 Nov 2021)\n",
    "working on Task -02 sparse matrix and dense matrix\n",
    "\n",
    "                The Task 02 completed, sparse matrix created and converted to dense matrix, by keeping limiting column numbers.\n",
    "                Applied roots has to be verify -- YADAV(15 Nov 2021)\n",
    "                Applied Roots verified - \n",
    "\n",
    "\n",
    "### NOTES V03 Remarks:\n",
    "\n",
    "working on Task -02 sparse matrix and dense matrix\n",
    "\n",
    "#### Remarks Task -02: (V03) \n",
    "#### N.B : for this version updates, please refer -- V03_Assignment_3_Instructions (YADAV)\n",
    "\n",
    "In this V03 version, the pandas data frame added for reference. However, the next version V04, the pandas dataframe will be deleted. \n",
    "\n",
    "for sparse matrix, follow applied roots reference,to compute task 02.\n",
    "\n",
    "\n",
    "\n",
    "### NOTES V02 Remarks:\n",
    "1. In this version Task - 01 completed. Verification from Applied Roots yet to be done\n",
    "\n",
    "                    and now\n",
    "\n",
    "\n",
    "                working on Task -02\n",
    "\n",
    "#### Remarks Task -02: (V02) \n",
    "#### N.B : for this version updates, please refer -- V02_Assignment_3_Instructions (YADAV)\n",
    "\n",
    "1. Followed same method of task 01 for fit and transfer method. However, fit and transfer functions names has been changed.\n",
    "2. Sorted function used in fit_50, to follow the Applied roots requirements (descending order)\n",
    "3. Also, in this version, there will be fit_top_50 and transform_top_50 functios are coded. which has reference link. However,in this the code has been completed with fit_50 and  function only. The next versionn V03, the fit_top_50 and transform_top_50 will be deleted. \n",
    "4. The task 2 has 746 rows. The name of the file changed from original version. The present name for task 2 is corpus_2\n",
    "\n",
    "==================\n",
    "The next version(V04) is going to work on dense matrix =======================\n",
    "\n",
    "\n"
   ]
  },
  {
   "cell_type": "code",
   "execution_count": null,
   "metadata": {},
   "outputs": [],
   "source": []
  },
  {
   "cell_type": "markdown",
   "metadata": {
    "id": "IvLvmewlxLix"
   },
   "source": [
    "<font face='georgia'>\n",
    "    \n",
    "   <h4><strong>What does tf-idf mean?</strong></h4>\n",
    "\n",
    "   <p>    \n",
    "Tf-idf stands for <em>term frequency-inverse document frequency</em>, and the tf-idf weight is a weight often used in information retrieval and text mining. This weight is a statistical measure used to evaluate how important a word is to a document in a collection or corpus. The importance increases proportionally to the number of times a word appears in the document but is offset by the frequency of the word in the corpus. Variations of the tf-idf weighting scheme are often used by search engines as a central tool in scoring and ranking a document's relevance given a user query.\n",
    "</p>\n",
    "    \n",
    "   <p>\n",
    "One of the simplest ranking functions is computed by summing the tf-idf for each query term; many more sophisticated ranking functions are variants of this simple model.\n",
    "</p>\n",
    "    \n",
    "   <p>\n",
    "Tf-idf can be successfully used for stop-words filtering in various subject fields including text summarization and classification.\n",
    "</p>\n",
    "    \n",
    "</font>"
   ]
  },
  {
   "cell_type": "markdown",
   "metadata": {
    "id": "4XLaGFUMxLiy"
   },
   "source": [
    "<font face='georgia'>\n",
    "    <h4><strong>How to Compute:</strong></h4>\n",
    "\n",
    "Typically, the tf-idf weight is composed by two terms: the first computes the normalized Term Frequency (TF), aka. the number of times a word appears in a document, divided by the total number of words in that document; the second term is the Inverse Document Frequency (IDF), computed as the logarithm of the number of the documents in the corpus divided by the number of documents where the specific term appears.\n",
    "\n",
    " <ul>\n",
    "    <li>\n",
    "<strong>TF:</strong> Term Frequency, which measures how frequently a term occurs in a document. Since every document is different in length, it is possible that a term would appear much more times in long documents than shorter ones. Thus, the term frequency is often divided by the document length (aka. the total number of terms in the document) as a way of normalization: <br>\n",
    "\n",
    "$TF(t) = \\frac{\\text{Number of times term t appears in a document}}{\\text{Total number of terms in the document}}.$\n",
    "</li>\n",
    "<li>\n",
    "<strong>IDF:</strong> Inverse Document Frequency, which measures how important a term is. While computing TF, all terms are considered equally important. However it is known that certain terms, such as \"is\", \"of\", and \"that\", may appear a lot of times but have little importance. Thus we need to weigh down the frequent terms while scale up the rare ones, by computing the following: <br>\n",
    "\n",
    "$IDF(t) = \\log_{e}\\frac{\\text{Total  number of documents}} {\\text{Number of documents with term t in it}}.$\n",
    "for numerical stabiltiy we will be changing this formula little bit\n",
    "$IDF(t) = \\log_{e}\\frac{\\text{Total  number of documents}} {\\text{Number of documents with term t in it}+1}.$\n",
    "</li>\n",
    "</ul>\n",
    "\n",
    "<br>\n",
    "<h4><strong>Example</strong></h4>\n",
    "<p>\n",
    "\n",
    "Consider a document containing 100 words wherein the word cat appears 3 times. The term frequency (i.e., tf) for cat is then (3 / 100) = 0.03. Now, assume we have 10 million documents and the word cat appears in one thousand of these. Then, the inverse document frequency (i.e., idf) is calculated as log(10,000,000 / 1,000) = 4. Thus, the Tf-idf weight is the product of these quantities: 0.03 * 4 = 0.12.\n",
    "</p>\n",
    "</font>"
   ]
  },
  {
   "cell_type": "markdown",
   "metadata": {
    "id": "dg2ooa4DxLiz"
   },
   "source": [
    "## Task-1"
   ]
  },
  {
   "cell_type": "markdown",
   "metadata": {
    "id": "TAcTjhO8xLiz"
   },
   "source": [
    "<font face='georgia'>\n",
    "    <h4><strong>1. Build a TFIDF Vectorizer & compare its results with Sklearn:</strong></h4>\n",
    "\n",
    "<ul>\n",
    "    <li> As a part of this task you will be implementing TFIDF vectorizer on a collection of text documents.</li>\n",
    "    <br>\n",
    "    <li> You should compare the results of your own implementation of TFIDF vectorizer with that of sklearns implemenation TFIDF vectorizer.</li>\n",
    "    <br>\n",
    "    <li> Sklearn does few more tweaks in the implementation of its version of TFIDF vectorizer, so to replicate the exact results you would need to add following things to your custom implementation of tfidf vectorizer:\n",
    "       <ol>\n",
    "        <li> Sklearn has its vocabulary generated from idf sroted in alphabetical order</li>\n",
    "        <li> Sklearn formula of idf is different from the standard textbook formula. Here the constant <strong>\"1\"</strong> is added to the numerator and denominator of the idf as if an extra document was seen containing every term in the collection exactly once, which prevents zero divisions.\n",
    "            \n",
    " $IDF(t) = 1+\\log_{e}\\frac{1\\text{ }+\\text{ Total  number of documents in collection}} {1+\\text{Number of documents with term t in it}}.$\n",
    "        </li>\n",
    "        <li> Sklearn applies L2-normalization on its output matrix.</li>\n",
    "        <li> The final output of sklearn tfidf vectorizer is a sparse matrix.</li>\n",
    "    </ol>\n",
    "    <br>\n",
    "    <li>Steps to approach this task:\n",
    "    <ol>\n",
    "        <li> You would have to write both fit and transform methods for your custom implementation of tfidf vectorizer.</li>\n",
    "        <li> Print out the alphabetically sorted voacb after you fit your data and check if its the same as that of the feature names from sklearn tfidf vectorizer. </li>\n",
    "        <li> Print out the idf values from your implementation and check if its the same as that of sklearns tfidf vectorizer idf values. </li>\n",
    "        <li> Once you get your voacb and idf values to be same as that of sklearns implementation of tfidf vectorizer, proceed to the below steps. </li>\n",
    "        <li> Make sure the output of your implementation is a sparse matrix. Before generating the final output, you need to normalize your sparse matrix using L2 normalization. You can refer to this link https://scikit-learn.org/stable/modules/generated/sklearn.preprocessing.normalize.html </li>\n",
    "        <li> After completing the above steps, print the output of your custom implementation and compare it with sklearns implementation of tfidf vectorizer.</li>\n",
    "        <li> To check the output of a single document in your collection of documents,  you can convert the sparse matrix related only to that document into dense matrix and print it.</li>\n",
    "        </ol>\n",
    "    </li>\n",
    "    <br>\n",
    "   </ul>\n",
    "\n",
    "  <p> <font color=\"#e60000\"><strong>Note-1: </strong></font> All the necessary outputs of sklearns tfidf vectorizer have been provided as reference in this notebook, you can compare your outputs as mentioned in the above steps, with these outputs.<br>\n",
    "   <font color=\"#e60000\"><strong>Note-2: </strong></font> The output of your custom implementation and that of sklearns implementation would match only with the collection of document strings provided to you as reference in this notebook. It would not match for strings that contain capital letters or punctuations, etc, because sklearn version of tfidf vectorizer deals with such strings in a different way. To know further details about how sklearn tfidf vectorizer works with such string, you can always refer to its official documentation.<br>\n",
    "   <font color=\"#e60000\"><strong>Note-3: </strong></font> During this task, it would be helpful for you to debug the code you write with print statements wherever necessary. But when you are finally submitting the assignment, make sure your code is readable and try not to print things which are not part of this task.\n",
    "    </p>"
   ]
  },
  {
   "cell_type": "markdown",
   "metadata": {
    "id": "OnV82tg1xLi0"
   },
   "source": [
    "### Corpus"
   ]
  },
  {
   "cell_type": "code",
   "execution_count": 5,
   "metadata": {
    "id": "bUsYm9wjxLi1"
   },
   "outputs": [],
   "source": [
    "## SkLearn# Collection of string documents\n",
    "\n",
    "corpus = [\n",
    "     'this is the first document',\n",
    "     'this document is the second document',\n",
    "     'and this is the third one',\n",
    "     'is this the first document',\n",
    "]"
   ]
  },
  {
   "cell_type": "markdown",
   "metadata": {
    "id": "eLwmFZfKxLi4"
   },
   "source": [
    "### SkLearn Implementation"
   ]
  },
  {
   "cell_type": "code",
   "execution_count": 6,
   "metadata": {
    "id": "Np4dfQOkxLi4"
   },
   "outputs": [],
   "source": [
    "from sklearn.feature_extraction.text import TfidfVectorizer\n",
    "vectorizer = TfidfVectorizer()\n",
    "vectorizer.fit(corpus)\n",
    "skl_output = vectorizer.transform(corpus)"
   ]
  },
  {
   "cell_type": "code",
   "execution_count": 7,
   "metadata": {
    "id": "-7Om8YpYxLi6",
    "outputId": "0a3bd0f5-4424-4400-944f-4482a80bd799"
   },
   "outputs": [
    {
     "name": "stdout",
     "output_type": "stream",
     "text": [
      "['and', 'document', 'first', 'is', 'one', 'second', 'the', 'third', 'this']\n"
     ]
    }
   ],
   "source": [
    "# sklearn feature names, they are sorted in alphabetic order by default.\n",
    "\n",
    "print(vectorizer.get_feature_names())"
   ]
  },
  {
   "cell_type": "code",
   "execution_count": 8,
   "metadata": {
    "id": "dTKplK96xLi-",
    "outputId": "53722fa2-6756-4aa0-f179-37b578bb6890"
   },
   "outputs": [
    {
     "name": "stdout",
     "output_type": "stream",
     "text": [
      "[1.91629073 1.22314355 1.51082562 1.         1.91629073 1.91629073\n",
      " 1.         1.91629073 1.        ]\n"
     ]
    }
   ],
   "source": [
    "# Here we will print the sklearn tfidf vectorizer idf values after applying the fit method\n",
    "# After using the fit function on the corpus the vocab has 9 words in it, and each has its idf value.\n",
    "\n",
    "print(vectorizer.idf_)"
   ]
  },
  {
   "cell_type": "code",
   "execution_count": 9,
   "metadata": {
    "id": "-CTiWHygxLjA",
    "outputId": "8d5a9cde-2c29-4afe-f7b4-1547e88dba4f"
   },
   "outputs": [
    {
     "data": {
      "text/plain": [
       "(4, 9)"
      ]
     },
     "execution_count": 9,
     "metadata": {},
     "output_type": "execute_result"
    }
   ],
   "source": [
    "# shape of sklearn tfidf vectorizer output after applying transform method.\n",
    "\n",
    "skl_output.shape"
   ]
  },
  {
   "cell_type": "code",
   "execution_count": 10,
   "metadata": {
    "id": "bDKEpbA-xLjD",
    "outputId": "87dafd65-5313-443f-8c6e-1b05cc8c2543"
   },
   "outputs": [
    {
     "name": "stdout",
     "output_type": "stream",
     "text": [
      "  (0, 8)\t0.38408524091481483\n",
      "  (0, 6)\t0.38408524091481483\n",
      "  (0, 3)\t0.38408524091481483\n",
      "  (0, 2)\t0.5802858236844359\n",
      "  (0, 1)\t0.46979138557992045\n"
     ]
    }
   ],
   "source": [
    "# sklearn tfidf values for first line of the above corpus.\n",
    "# Here the output is a sparse matrix\n",
    "\n",
    "print(skl_output[0])"
   ]
  },
  {
   "cell_type": "code",
   "execution_count": 11,
   "metadata": {
    "id": "3QWo34hexLjF",
    "outputId": "cdc04e08-989f-4bdc-dd7f-f1c82a9f90be"
   },
   "outputs": [
    {
     "name": "stdout",
     "output_type": "stream",
     "text": [
      "[[0.         0.46979139 0.58028582 0.38408524 0.         0.\n",
      "  0.38408524 0.         0.38408524]]\n"
     ]
    }
   ],
   "source": [
    "# sklearn tfidf values for first line of the above corpus.\n",
    "# To understand the output better, here we are converting the sparse output matrix to dense matrix and printing it.\n",
    "# Notice that this output is normalized using L2 normalization. sklearn does this by default.\n",
    "\n",
    "print(skl_output[0].toarray())"
   ]
  },
  {
   "cell_type": "markdown",
   "metadata": {
    "id": "qfIwx5LzxLjI"
   },
   "source": [
    "### Your custom implementation"
   ]
  },
  {
   "cell_type": "markdown",
   "metadata": {},
   "source": [
    "### TASK 01 - STEP 01\n",
    "#### fit tf-idf vectorizer"
   ]
  },
  {
   "cell_type": "code",
   "execution_count": 12,
   "metadata": {},
   "outputs": [],
   "source": [
    "#This IDF_1 is giving the execution in transfer method\n",
    "\n",
    "# https://www.kaggle.com/paulrohan2020/ml-algorithms-from-scratch-with-pure-python/notebook\n",
    "\n",
    "def IDF_1(corpus, word):\n",
    "    \n",
    "    count = 0\n",
    "    for row in corpus:\n",
    "        if word in row:\n",
    "            count = count+1\n",
    "    return count"
   ]
  },
  {
   "cell_type": "code",
   "execution_count": 13,
   "metadata": {
    "id": "HjuCcJwXxLjJ"
   },
   "outputs": [],
   "source": [
    "# Write your code here.\n",
    "# Make sure its well documented and readble with appropriate comments.\n",
    "# Compare your results with the above sklearn tfidf vectorizer\n",
    "# You are not supposed to use any other library apart from the ones given below\n",
    "\n",
    "# Ref : Applied Roots Class\n",
    "\n",
    "\n",
    "from collections import Counter\n",
    "from tqdm import tqdm\n",
    "from scipy.sparse import csr_matrix\n",
    "import math\n",
    "import operator\n",
    "from sklearn.preprocessing import normalize\n",
    "import numpy\n",
    "\n",
    "                \n",
    "def fit(corpus):\n",
    "    unique_words=set() # initializing the empty set for unique words\n",
    "    \n",
    "    if isinstance (corpus,(list,)): # boolean type to see given corpus is in list form or not\n",
    "        for row in corpus:    # for loop to print  each data in the corpus\n",
    "            for word in row.split(\" \"): # spliting the strings in to list of words\n",
    "                if len(word) <2: # choosing the length of word\n",
    "                    continue # if it's not satisfies above condition, it will bypass\n",
    "                unique_words.add(word) # if it's satisfies adding the words\n",
    "        unique_words=sorted(list(unique_words)) # sorting the words\n",
    "        vocab= {j:i for i,j in enumerate(unique_words)} # enumerates defines with index value i= index, j= word\n",
    "\n",
    "        return vocab\n",
    "    else:\n",
    "        print(\"you need to pass list of sentance\")\n",
    "                \n"
   ]
  },
  {
   "cell_type": "markdown",
   "metadata": {},
   "source": [
    "### TASK 01 - STEP 02\n",
    "#### alphabetically sorted voacb"
   ]
  },
  {
   "cell_type": "code",
   "execution_count": 14,
   "metadata": {},
   "outputs": [
    {
     "name": "stdout",
     "output_type": "stream",
     "text": [
      "{'and': 0, 'document': 1, 'first': 2, 'is': 3, 'one': 4, 'second': 5, 'the': 6, 'third': 7, 'this': 8}\n"
     ]
    }
   ],
   "source": [
    "vocab=fit(corpus)\n",
    "print(vocab) # first set vocabulary, second set idf_of_vocabulary"
   ]
  },
  {
   "cell_type": "code",
   "execution_count": 15,
   "metadata": {},
   "outputs": [
    {
     "name": "stdout",
     "output_type": "stream",
     "text": [
      "dict_keys(['and', 'document', 'first', 'is', 'one', 'second', 'the', 'third', 'this'])\n"
     ]
    }
   ],
   "source": [
    "print(vocab.keys())"
   ]
  },
  {
   "cell_type": "markdown",
   "metadata": {},
   "source": [
    "### TASK 01 - STEP 03\n",
    "#### idf values "
   ]
  },
  {
   "cell_type": "code",
   "execution_count": 16,
   "metadata": {},
   "outputs": [],
   "source": [
    "def transform(corpus,vocab):\n",
    "    rows=[]\n",
    "    columns=[]\n",
    "    values=[]\n",
    "    tf_val=[]\n",
    "    idf_val=[]\n",
    "    \n",
    "    if isinstance(corpus,(list,)):\n",
    "        for idx,row in enumerate (corpus): # each document in corpus\n",
    "            word_freq=dict(Counter(row.split())) # gives the word -- frequency after spliting\n",
    "            \n",
    "            for word,freq in word_freq.items():\n",
    "                if len(word)<2:\n",
    "                    continue\n",
    "                col_index=vocab.get(word,-1)\n",
    "                \n",
    "                if col_index != -1: # checking boolean condition, if the given condition satisfies it will go further\n",
    "                    rows.append(idx) # getting and appending the index value in row\n",
    "                    columns.append(col_index) # getting and appending the column value in columns\n",
    "                    \n",
    "                    tf_idf_value= (freq/len(row.split()))*(1+(math.log((1+len(corpus))/(1+IDF_1(corpus,word))))) # tf-idf formula\n",
    "                \n",
    "                    values.append(tf_idf_value) #appending the tf_idf_value\n",
    "                \n",
    "        \n",
    "                    sparse_matrix=csr_matrix((values,(rows,columns)),shape=(len(corpus),len(vocab))) #sparse matrix defines in row,column and value\n",
    "                    \n",
    "                    final_normalized_output=normalize(sparse_matrix) # L2- normalizing \n",
    "                    \n",
    "        return final_normalized_output\n",
    "                    \n",
    "vocab=fit(corpus)          \n",
    "    \n",
    "    "
   ]
  },
  {
   "cell_type": "code",
   "execution_count": 17,
   "metadata": {},
   "outputs": [
    {
     "name": "stdout",
     "output_type": "stream",
     "text": [
      "  (0, 1)\t0.4697913855799205\n",
      "  (0, 2)\t0.580285823684436\n",
      "  (0, 3)\t0.3840852409148149\n",
      "  (0, 6)\t0.3840852409148149\n",
      "  (0, 8)\t0.3840852409148149\n",
      "  (1, 1)\t0.6876235979836937\n",
      "  (1, 3)\t0.2810886740337529\n",
      "  (1, 5)\t0.5386476208856762\n",
      "  (1, 6)\t0.2810886740337529\n",
      "  (1, 8)\t0.2810886740337529\n",
      "  (2, 0)\t0.511848512707169\n",
      "  (2, 3)\t0.267103787642168\n",
      "  (2, 4)\t0.511848512707169\n",
      "  (2, 6)\t0.267103787642168\n",
      "  (2, 7)\t0.511848512707169\n",
      "  (2, 8)\t0.267103787642168\n",
      "  (3, 1)\t0.4697913855799205\n",
      "  (3, 2)\t0.580285823684436\n",
      "  (3, 3)\t0.3840852409148149\n",
      "  (3, 6)\t0.3840852409148149\n",
      "  (3, 8)\t0.3840852409148149\n",
      "\n",
      " shape of tf_idf_vectorized:  (4, 9)\n"
     ]
    }
   ],
   "source": [
    "\n",
    "tf_idf_vectorized=transform(corpus,vocab) # transforming the function and the results gives all rows,columns and values\n",
    "print(tf_idf_vectorized)\n",
    "print(\"\\n shape of tf_idf_vectorized: \", tf_idf_vectorized.shape)"
   ]
  },
  {
   "cell_type": "code",
   "execution_count": 18,
   "metadata": {},
   "outputs": [
    {
     "name": "stdout",
     "output_type": "stream",
     "text": [
      "  (0, 1)\t0.4697913855799205\n",
      "  (0, 2)\t0.580285823684436\n",
      "  (0, 3)\t0.3840852409148149\n",
      "  (0, 6)\t0.3840852409148149\n",
      "  (0, 8)\t0.3840852409148149\n"
     ]
    }
   ],
   "source": [
    "X = tf_idf_vectorized[0] # row, column and value of the corpus \n",
    "print(X)"
   ]
  },
  {
   "cell_type": "code",
   "execution_count": 19,
   "metadata": {},
   "outputs": [
    {
     "data": {
      "text/plain": [
       "array([[0.        , 0.46979139, 0.58028582, 0.38408524, 0.        ,\n",
       "        0.        , 0.38408524, 0.        , 0.38408524]])"
      ]
     },
     "execution_count": 19,
     "metadata": {},
     "output_type": "execute_result"
    }
   ],
   "source": [
    "X.toarray() # making the transforemed values into array "
   ]
  },
  {
   "cell_type": "code",
   "execution_count": null,
   "metadata": {},
   "outputs": [],
   "source": []
  },
  {
   "cell_type": "markdown",
   "metadata": {
    "id": "MMxBmVZExLjK"
   },
   "source": [
    "## Task-2"
   ]
  },
  {
   "cell_type": "markdown",
   "metadata": {
    "id": "51j_OtqAxLjL"
   },
   "source": [
    "<font face='georgia'>\n",
    "    <h4><strong>2. Implement max features functionality:</strong></h4>\n",
    "\n",
    "<ul>\n",
    "    <li> As a part of this task you have to modify your fit and transform functions so that your vocab will contain only 50 terms with top idf scores.</li>\n",
    "    <br>\n",
    "    <li>This task is similar to your previous task, just that here your vocabulary is limited to only top 50 features names based on their idf values. Basically your output will have exactly 50 columns and the number of rows will depend on the number of documents you have in your corpus.</li>\n",
    "    <br>\n",
    "    <li>Here you will be give a pickle file, with file name <strong>cleaned_strings</strong>. You would have to load the corpus from this file and use it as input to your tfidf vectorizer.</li>\n",
    "    <br>\n",
    "    <li>Steps to approach this task:\n",
    "    <ol>\n",
    "        <li> You would have to write both fit and transform methods for your custom implementation of tfidf vectorizer, just like in the previous task. Additionally, here you have to limit the number of features generated to 50 as described above.</li>\n",
    "        <li> Now sort your vocab based in descending order of idf values and print out the words in the sorted voacb after you fit your data. Here you should be getting only 50 terms in your vocab. And make sure to print idf values for each term in your vocab. </li>\n",
    "        <li> Make sure the output of your implementation is a sparse matrix. Before generating the final output, you need to normalize your sparse matrix using L2 normalization. You can refer to this link https://scikit-learn.org/stable/modules/generated/sklearn.preprocessing.normalize.html </li>\n",
    "        <li> Now check the output of a single document in your collection of documents,  you can convert the sparse matrix related only to that document into dense matrix and print it. And this dense matrix should contain 1 row and 50 columns. </li>\n",
    "        </ol>\n",
    "    </li>\n",
    "    <br>\n",
    "   </ul>"
   ]
  },
  {
   "cell_type": "code",
   "execution_count": 120,
   "metadata": {
    "id": "NHxPLlwNxLjL",
    "outputId": "9abd8e08-0e24-4975-9a13-4d3636d60323"
   },
   "outputs": [
    {
     "name": "stdout",
     "output_type": "stream",
     "text": [
      "Number of documents in corpus =  746\n"
     ]
    }
   ],
   "source": [
    "# Below is the code to load the cleaned_strings pickle file provided\n",
    "# Here corpus is of list type\n",
    "\n",
    "import pickle\n",
    "with open('cleaned_strings', 'rb') as f:\n",
    "    corpus_2 = pickle.load(f)\n",
    "    \n",
    "# printing the length of the corpus loaded\n",
    "print(\"Number of documents in corpus = \",len(corpus_2))"
   ]
  },
  {
   "cell_type": "code",
   "execution_count": 21,
   "metadata": {
    "id": "ZULfoOIdxLjQ"
   },
   "outputs": [],
   "source": [
    "# Write your code here.\n",
    "# Try not to hardcode any values.\n",
    "# Make sure its well documented and readble with appropriate comments."
   ]
  },
  {
   "cell_type": "code",
   "execution_count": 22,
   "metadata": {},
   "outputs": [],
   "source": [
    "# https://www.kaggle.com/paulrohan2020/ml-algorithms-from-scratch-with-pure-python/notebook#TFIDF-Vectorizer-from-Scratch-without-sklearn-&-compare-its-results-with-Sklearn\n",
    "\n",
    "def IDF_2(corpus_2, word):\n",
    "    \n",
    "    count = 0\n",
    "    for row in corpus_2:\n",
    "        if word in row:\n",
    "            count = count+1\n",
    "    return count"
   ]
  },
  {
   "cell_type": "code",
   "execution_count": 121,
   "metadata": {},
   "outputs": [],
   "source": [
    "# this one also modified accordingly, in descending order by using reverse= True in sorted function\n",
    "\n",
    "def fit_50(corpus_2):\n",
    "    unique_words_2=set() # initializing the empty set for unique words\n",
    "    \n",
    "    if isinstance (corpus_2,(list,)): # boolean type to see given corpus is in list form or not\n",
    "        for row_2 in corpus_2:    # for loop to print  each data in the corpus\n",
    "            for word_2 in row_2.split(\" \"): # spliting the strings in to list of words\n",
    "                if len(word_2) <2: # choosing the length of word\n",
    "                    continue # if it's not satisfies above condition, it will bypass\n",
    "                unique_words_2.add(word_2) # if it's satisfies adding the words\n",
    "        unique_words_2=sorted(list(unique_words_2),reverse=True) # sorting the words, reverse = True gives the order in descending order\n",
    "        \n",
    "        vocab_50= {j:i for i,j in enumerate(unique_words_2[:50])} # enumerates defines with index value i= index, j= word, 50 values \n",
    "\n",
    "        return vocab_50\n",
    "    else:\n",
    "        print(\"you need to pass list of sentance\")"
   ]
  },
  {
   "cell_type": "code",
   "execution_count": null,
   "metadata": {},
   "outputs": [],
   "source": []
  },
  {
   "cell_type": "code",
   "execution_count": 122,
   "metadata": {},
   "outputs": [
    {
     "name": "stdout",
     "output_type": "stream",
     "text": [
      "{'zombiez': 0, 'zombie': 1, 'zillion': 2, 'yun': 3, 'youtube': 4, 'youthful': 5, 'younger': 6, 'young': 7, 'yet': 8, 'yes': 9, 'yelps': 10, 'years': 11, 'year': 12, 'yeah': 13, 'yawn': 14, 'yardley': 15, 'wrote': 16, 'wrong': 17, 'written': 18, 'writing': 19, 'writers': 20, 'writer': 21, 'write': 22, 'wrap': 23, 'wow': 24, 'woven': 25, 'wouldnt': 26, 'would': 27, 'worthy': 28, 'worthwhile': 29, 'worthless': 30, 'worth': 31, 'worst': 32, 'worse': 33, 'worry': 34, 'world': 35, 'works': 36, 'working': 37, 'worked': 38, 'work': 39, 'words': 40, 'word': 41, 'wooden': 42, 'woo': 43, 'wont': 44, 'wong': 45, 'wonderfully': 46, 'wonderful': 47, 'wondered': 48, 'wonder': 49}\n"
     ]
    }
   ],
   "source": [
    "print(fit_50(corpus_2))  # "
   ]
  },
  {
   "cell_type": "code",
   "execution_count": 123,
   "metadata": {},
   "outputs": [],
   "source": [
    "def transform_50(corpus_2,vocab_50):\n",
    "    rows_2=[]\n",
    "    columns_2=[]\n",
    "    values_2=[]\n",
    "    tf_val_2=[]\n",
    "    idf_val_2=[]\n",
    "    \n",
    "    if isinstance(corpus_2,(list,)):\n",
    "        for idx_2,row_2 in enumerate (corpus_2): # each document in corpus\n",
    "            word_freq_2=dict(Counter(row_2.split())) # gives the word -- frequency after spliting\n",
    "            \n",
    "            for word_2,freq_2 in word_freq_2.items():\n",
    "                if len(word_2)<2:\n",
    "                    continue\n",
    "                col_index_2=vocab_50.get(word_2,-1)\n",
    "                \n",
    "                if col_index_2 != -1: # checking boolean condition, if the given condition satisfies it will go further\n",
    "                    rows_2.append(idx_2) # getting and appending the index value in row\n",
    "                    columns_2.append(col_index_2) # getting and appending the column value in columns\n",
    "                    \n",
    "                    tf_idf_value_2= (freq_2/len(row_2.split()))*(1+(math.log((1+len(corpus_2))/(1+IDF_2(corpus_2,word))))) # tf-idf formula\n",
    "                \n",
    "                    values_2.append(tf_idf_value_2) #appending the tf_idf_value\n",
    "                \n",
    "        \n",
    "                    sparse_matrix_2=csr_matrix((values_2,(rows_2,columns_2)),shape=(len(corpus_2),len(vocab_50))) #sparse matrix defines in row,column and value\n",
    "                    \n",
    "                    final_normalized_output_2=normalize(sparse_matrix_2) # L2- normalizing \n",
    "                    \n",
    "        return final_normalized_output_2\n",
    "                    \n",
    "vocab_50=fit_50(corpus_2) #the results of all the columns are descending order for each row in the corpus"
   ]
  },
  {
   "cell_type": "code",
   "execution_count": 124,
   "metadata": {},
   "outputs": [
    {
     "name": "stdout",
     "output_type": "stream",
     "text": [
      "  (0, 7)\t1.0\n",
      "  (5, 36)\t1.0\n",
      "  (19, 5)\t0.3084585631295744\n",
      "  (19, 9)\t0.24669062561778876\n",
      "  (19, 18)\t0.24669062561778876\n",
      "  (19, 19)\t0.22175630143004543\n",
      "  (19, 27)\t0.5679263958456787\n",
      "  (19, 31)\t0.20586423963775052\n",
      "  (19, 32)\t0.23250155386232518\n",
      "  (19, 34)\t0.3084585631295744\n",
      "  (19, 39)\t0.38498546966173086\n",
      "  (19, 40)\t0.26763217714953613\n",
      "  (20, 11)\t1.0\n",
      "  (21, 41)\t1.0\n",
      "  (26, 18)\t1.0\n",
      "  (29, 31)\t1.0\n",
      "  (45, 31)\t1.0\n",
      "  (48, 19)\t1.0\n",
      "  (49, 19)\t1.0\n",
      "  (62, 27)\t1.0\n",
      "  (66, 35)\t1.0\n",
      "  (68, 27)\t1.0\n",
      "  (79, 35)\t0.8031660407364719\n",
      "  (79, 39)\t0.595755244213343\n",
      "  (82, 31)\t1.0\n",
      "  :\t:\n",
      "  (644, 37)\t0.318290335170024\n",
      "  (644, 47)\t0.22098679113273476\n",
      "  (654, 32)\t1.0\n",
      "  (658, 42)\t1.0\n",
      "  (661, 47)\t1.0\n",
      "  (674, 11)\t0.5769641169231339\n",
      "  (674, 18)\t0.6324212867344452\n",
      "  (674, 47)\t0.5168710901842515\n",
      "  (677, 39)\t1.0\n",
      "  (678, 47)\t1.0\n",
      "  (679, 47)\t1.0\n",
      "  (680, 29)\t1.0\n",
      "  (693, 8)\t1.0\n",
      "  (696, 18)\t0.7071067811865476\n",
      "  (696, 21)\t0.7071067811865476\n",
      "  (698, 8)\t1.0\n",
      "  (700, 27)\t1.0\n",
      "  (710, 21)\t1.0\n",
      "  (713, 31)\t1.0\n",
      "  (714, 46)\t1.0\n",
      "  (717, 46)\t1.0\n",
      "  (720, 30)\t1.0\n",
      "  (739, 47)\t1.0\n",
      "  (742, 39)\t1.0\n",
      "  (743, 41)\t1.0\n",
      "\n",
      " shape of tf_idf_vectorized:  (746, 50)\n"
     ]
    }
   ],
   "source": [
    "tf_idf_vectorized_2=transform(corpus_2,vocab_50) # transforming the function and the results gives all rows,columns and values\n",
    "print(tf_idf_vectorized_2) # which has 746 rows and limiting columns to 50\n",
    "print(\"\\n shape of tf_idf_vectorized: \", tf_idf_vectorized_2.shape) # gives the dimension of it"
   ]
  },
  {
   "cell_type": "code",
   "execution_count": 125,
   "metadata": {},
   "outputs": [
    {
     "name": "stdout",
     "output_type": "stream",
     "text": [
      "  (0, 7)\t1.0\n",
      "  (5, 36)\t1.0\n",
      "  (19, 5)\t0.3084585631295744\n",
      "  (19, 9)\t0.24669062561778876\n",
      "  (19, 18)\t0.24669062561778876\n",
      "  (19, 19)\t0.22175630143004543\n",
      "  (19, 27)\t0.5679263958456787\n",
      "  (19, 31)\t0.20586423963775052\n",
      "  (19, 32)\t0.23250155386232518\n",
      "  (19, 34)\t0.3084585631295744\n",
      "  (19, 39)\t0.38498546966173086\n",
      "  (19, 40)\t0.26763217714953613\n",
      "  (20, 11)\t1.0\n",
      "  (21, 41)\t1.0\n",
      "  (26, 18)\t1.0\n",
      "  (29, 31)\t1.0\n",
      "  (45, 31)\t1.0\n",
      "  (48, 19)\t1.0\n",
      "  (49, 19)\t1.0\n"
     ]
    }
   ],
   "source": [
    "XX = tf_idf_vectorized_2[:50] # the result is row, column and value of the corpus_2 (first 50 rows)\n",
    "print(XX) # this result is sorted in fit_50, whatever the valuse you get here are sorted in descending order\n",
    "# which means, the column indexing is starting from the last value and limitng to 50 columns for each row.\n",
    "# instead of starting from first column and limiting to 50 columns \n",
    "#"
   ]
  },
  {
   "cell_type": "markdown",
   "metadata": {},
   "source": [
    "### sklearns implementation of tfidf vectorizer to Dense Matrix\n",
    "\n",
    "##### Ref: applied roots sklearn example beginning of the code snippet"
   ]
  },
  {
   "cell_type": "code",
   "execution_count": null,
   "metadata": {},
   "outputs": [],
   "source": []
  },
  {
   "cell_type": "code",
   "execution_count": null,
   "metadata": {},
   "outputs": [],
   "source": []
  },
  {
   "cell_type": "code",
   "execution_count": 126,
   "metadata": {},
   "outputs": [],
   "source": [
    "from sklearn.feature_extraction.text import TfidfVectorizer\n",
    "vectorizer_2 = TfidfVectorizer()\n",
    "vectorizer_2.fit(corpus_2)\n",
    "skl_output_2 = vectorizer_2.transform(corpus_2)"
   ]
  },
  {
   "cell_type": "code",
   "execution_count": 127,
   "metadata": {},
   "outputs": [
    {
     "name": "stdout",
     "output_type": "stream",
     "text": [
      "['absolutely', 'abroad', 'ability', 'abandoned', 'aailiyah']\n"
     ]
    }
   ],
   "source": [
    "# sklearn feature names,\n",
    "print(sorted(vectorizer_2.get_feature_names()[:5],reverse=True))"
   ]
  },
  {
   "cell_type": "code",
   "execution_count": 128,
   "metadata": {},
   "outputs": [
    {
     "name": "stdout",
     "output_type": "stream",
     "text": [
      "[6.922918   6.922918   6.22977082 ... 6.922918   6.5174529  6.922918  ]\n"
     ]
    }
   ],
   "source": [
    "# Here we will print the sklearn tfidf vectorizer idf values after applying the fit method\n",
    "\n",
    "\n",
    "print(vectorizer_2.idf_)\n"
   ]
  },
  {
   "cell_type": "code",
   "execution_count": 129,
   "metadata": {},
   "outputs": [
    {
     "data": {
      "text/plain": [
       "(746, 2886)"
      ]
     },
     "execution_count": 129,
     "metadata": {},
     "output_type": "execute_result"
    }
   ],
   "source": [
    "# shape of sklearn tfidf vectorizer output after applying transform method.\n",
    "\n",
    "skl_output_2.shape # total number of rows and columns "
   ]
  },
  {
   "cell_type": "code",
   "execution_count": 130,
   "metadata": {},
   "outputs": [
    {
     "name": "stdout",
     "output_type": "stream",
     "text": [
      "  (0, 2878)\t0.35781145622317734\n",
      "  (0, 2287)\t0.3377679916467555\n",
      "  (0, 1653)\t0.35781145622317734\n",
      "  (0, 1651)\t0.16192317905848022\n",
      "  (0, 1545)\t0.30566026894803877\n",
      "  (0, 720)\t0.4123943870778812\n",
      "  (0, 688)\t0.4123943870778812\n",
      "  (0, 53)\t0.4123943870778812\n"
     ]
    }
   ],
   "source": [
    "# sklearn tfidf values for first line of the above corpus_2.\n",
    "# Here the output is a sparse matrix\n",
    "\n",
    "print(skl_output_2[0]) "
   ]
  },
  {
   "cell_type": "code",
   "execution_count": 131,
   "metadata": {},
   "outputs": [
    {
     "name": "stdout",
     "output_type": "stream",
     "text": [
      "[[0. 0. 0. ... 0. 0. 0.]]\n"
     ]
    },
    {
     "data": {
      "text/plain": [
       "(1, 2886)"
      ]
     },
     "execution_count": 131,
     "metadata": {},
     "output_type": "execute_result"
    }
   ],
   "source": [
    "# sklearn tfidf values for first line of the above corpus.\n",
    "# To understand the output better, here we are converting the sparse output matrix to dense matrix and printing it.\n",
    "# Notice that this output is normalized using L2 normalization. sklearn does this by default.\n",
    "\n",
    "\n",
    "z=skl_output_2[0].toarray() # dense matrix printing all the columns in row, in this we selected row index\n",
    "print(z)\n",
    "#print(skl_output_2[0:50].toarray())\n",
    "z.shape"
   ]
  },
  {
   "cell_type": "code",
   "execution_count": 132,
   "metadata": {},
   "outputs": [
    {
     "name": "stdout",
     "output_type": "stream",
     "text": [
      "[[0. 0. 0. 0. 0. 0. 0. 0. 0. 0. 0. 0. 0. 0. 0. 0. 0. 0. 0. 0. 0. 0. 0. 0.\n",
      "  0. 0. 0. 0. 0. 0. 0. 0. 0. 0. 0. 0. 0. 0. 0. 0. 0. 0. 0. 0. 0. 0. 0. 0.\n",
      "  0. 0.]]\n",
      "\n",
      " dense matrix shape:  (746, 50)\n"
     ]
    }
   ],
   "source": [
    "#https://www.discoverbits.in/2233/python-how-to-convert-sparse-matrix-to-a-dense-matrix\n",
    "\n",
    "#https://scikit-learn.org/stable/modules/generated/sklearn.preprocessing.normalize.html#\n",
    "# \n",
    "\n",
    "\n",
    "z1=csr_matrix(skl_output_2,shape=(746,50)) # limiting column numbers to 50, and printing dense matrix\n",
    "print(z1[0].toarray()) # checking shape of all rows and columns\n",
    "print(\"\\n dense matrix shape: \",z1.shape)"
   ]
  },
  {
   "cell_type": "code",
   "execution_count": 103,
   "metadata": {},
   "outputs": [
    {
     "data": {
      "text/plain": [
       "(1, 50)"
      ]
     },
     "execution_count": 103,
     "metadata": {},
     "output_type": "execute_result"
    }
   ],
   "source": [
    "z1[4].shape # printing dense matrix shape, by chooing row index, and the number of columns are limited to 50\n",
    "\n",
    "# the row, index can be choosen anythig, for any index, the shape of the matrix is 1 x 50 . which is due to,\n",
    "#limiting dense matrix shape"
   ]
  },
  {
   "cell_type": "code",
   "execution_count": 104,
   "metadata": {},
   "outputs": [
    {
     "name": "stdout",
     "output_type": "stream",
     "text": [
      "2886\n"
     ]
    }
   ],
   "source": [
    "print(len(sorted(vectorizer_2.get_feature_names(),reverse=True)))"
   ]
  },
  {
   "cell_type": "code",
   "execution_count": null,
   "metadata": {},
   "outputs": [],
   "source": []
  }
 ],
 "metadata": {
  "colab": {
   "collapsed_sections": [],
   "name": "Assignment_3_Instructions.ipynb",
   "provenance": []
  },
  "kernelspec": {
   "display_name": "Python 3",
   "language": "python",
   "name": "python3"
  },
  "language_info": {
   "codemirror_mode": {
    "name": "ipython",
    "version": 3
   },
   "file_extension": ".py",
   "mimetype": "text/x-python",
   "name": "python",
   "nbconvert_exporter": "python",
   "pygments_lexer": "ipython3",
   "version": "3.8.8"
  }
 },
 "nbformat": 4,
 "nbformat_minor": 1
}
