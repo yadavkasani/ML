{
 "cells": [
  {
   "cell_type": "markdown",
   "metadata": {},
   "source": [
    "#### NOTE: V04_Backpropagation_Assignment (08 APR 2022 --- YADAV)\n",
    "\n",
    "                                      APPLIED ROOTS VARIFICATION HAS TO BE DONE\n",
    "                                                    -- YADAV(08 APR 2022)\n",
    "                                                    \n",
    "                \n",
    "\n",
    "\n",
    "\n",
    "#### NOTE: V03_Backpropagation_Assignment (07 APR 2022 --- YADAV)\n",
    "\n",
    "                            APPLIED ROOTS VARIFICATION HAS TO BE DONE\n",
    "                                                    -- YADAV(07 APR 2022)\n",
    "                                                    \n",
    "                REMARKS: (APPLIED ROOTS -- 08 APRIL 2022)\n",
    "                \n",
    "                \n",
    "                Hi, You did Nice Work :) but a few suggestions for you,\n",
    "\n",
    "            1)For weight update in all optimizers do it dynamically (using for loops). Do not hard code to update each weight.\n",
    "\n",
    "            2)Write observations for each optimizers\n",
    "\n",
    "            please follow the above suggestions and resubmit your assignment :)\n",
    "\n",
    "            Thank You :)\n",
    "\n",
    "1. No changes made in V02.\n",
    "2. V03 is for applied roots submission \n",
    "#### NOTE: V01_Backpropagation_Assignment (30 March 2022 --- YADAV)\n",
    "                                                    \n",
    "1. V01 has forward propation as well as backward propagation. In the backward propagation, again caluculated many steps, which are in the forward propagation. So, in the next version (V02), the excessive steps, which are in the backward propagation might be deleted.\n"
   ]
  },
  {
   "cell_type": "markdown",
   "metadata": {
    "id": "y871RZtRhCEH"
   },
   "source": [
    "# <font color='red'>Backpropagation</font>"
   ]
  },
  {
   "cell_type": "markdown",
   "metadata": {
    "id": "LqePYi-4mFvK"
   },
   "source": [
    "\n",
    "In this assignment, you will implement Backpropagation from scratch. You will then verify the correctness of the your implementation using a \"grader\" function/cell (provided by us) which will match your implmentation.\n",
    "\n",
    "The grader fucntion would help you validate the correctness of your code. \n",
    "\n",
    "Please submit the final Colab notebook in the classroom ONLY after you have verified your code using the grader function/cell.\n",
    "\n",
    "\n"
   ]
  },
  {
   "cell_type": "markdown",
   "metadata": {
    "id": "0huUQ0byiI0I"
   },
   "source": [
    "## <font color='red'>Loading data </font>"
   ]
  },
  {
   "cell_type": "code",
   "execution_count": 1,
   "metadata": {},
   "outputs": [],
   "source": [
    "import pickle\n",
    "import numpy as np\n",
    "from tqdm import tqdm\n",
    "import matplotlib.pyplot as plt\n",
    "import math"
   ]
  },
  {
   "cell_type": "code",
   "execution_count": 2,
   "metadata": {
    "id": "1hSje5CBgcUb"
   },
   "outputs": [
    {
     "name": "stdout",
     "output_type": "stream",
     "text": [
      "(506, 6)\n",
      "(506, 5) (506,)\n"
     ]
    }
   ],
   "source": [
    "\n",
    "with open('data.pkl', 'rb') as f:\n",
    "    data = pickle.load(f)\n",
    "print(data.shape)\n",
    "X = data[:, :5]\n",
    "y = data[:, -1]\n",
    "print(X.shape, y.shape)"
   ]
  },
  {
   "cell_type": "code",
   "execution_count": 3,
   "metadata": {},
   "outputs": [],
   "source": [
    "#print((X))"
   ]
  },
  {
   "cell_type": "markdown",
   "metadata": {
    "id": "hmphIg_E52Rs"
   },
   "source": [
    "<font color='blue'><b>Check this video for better understanding of the computational graphs and back propagation</font>"
   ]
  },
  {
   "cell_type": "code",
   "execution_count": 4,
   "metadata": {},
   "outputs": [],
   "source": [
    "#print((y))"
   ]
  },
  {
   "cell_type": "code",
   "execution_count": 5,
   "metadata": {},
   "outputs": [
    {
     "name": "stdout",
     "output_type": "stream",
     "text": [
      "506\n"
     ]
    }
   ],
   "source": [
    "print(len(y))"
   ]
  },
  {
   "cell_type": "code",
   "execution_count": 6,
   "metadata": {
    "colab": {
     "base_uri": "https://localhost:8080/",
     "height": 520
    },
    "id": "uUWpHhgg53eu",
    "outputId": "3cc89735-d0a7-4c1c-aab5-d4e75b856a6b"
   },
   "outputs": [
    {
     "data": {
      "image/jpeg": "[encoded data removed]",
      "text/html": [
       "\n",
       "        <iframe\n",
       "            width=\"1000\"\n",
       "            height=\"500\"\n",
       "            src=\"https://www.youtube.com/embed/i94OvYb6noo\"\n",
       "            frameborder=\"0\"\n",
       "            allowfullscreen\n",
       "        ></iframe>\n",
       "        "
      ],
      "text/plain": [
       "<IPython.lib.display.YouTubeVideo at 0x7fc5107b36d0>"
      ]
     },
     "execution_count": 6,
     "metadata": {},
     "output_type": "execute_result"
    }
   ],
   "source": [
    "from IPython.display import YouTubeVideo\n",
    "YouTubeVideo('i94OvYb6noo',width=\"1000\",height=\"500\")"
   ]
  },
  {
   "cell_type": "markdown",
   "metadata": {
    "id": "5JL-0soQistC"
   },
   "source": [
    "# <font color='red'>Computational graph</font>"
   ]
  },
  {
   "cell_type": "markdown",
   "metadata": {
    "id": "nREnTTJ3i0Vd"
   },
   "source": [
    "<img src='https://i.imgur.com/seSGbNS.png'>"
   ]
  },
  {
   "cell_type": "markdown",
   "metadata": {
    "id": "DSPX_H_4i_HT"
   },
   "source": [
    "\n",
    "*  **If you observe the graph, we are having input features [f1, f2, f3, f4, f5] and 9 weights [w1, w2, w3, w4, w5, w6,    w7, w8, w9]**.<br><br>\n",
    "*  **The final output of this graph is a value L which is computed as (Y-Y')^2** "
   ]
  },
  {
   "cell_type": "markdown",
   "metadata": {
    "id": "D54eDEv6jkO4"
   },
   "source": [
    "## <font color='red'>Task 1: Implementing Forward propagation, Backpropagation and Gradient checking </font>"
   ]
  },
  {
   "cell_type": "markdown",
   "metadata": {
    "id": "xyWK94o_fTKH"
   },
   "source": [
    "# <font color='red'>Task 1.1 </font>"
   ]
  },
  {
   "cell_type": "markdown",
   "metadata": {
    "id": "RwEcPWLffTKI"
   },
   "source": [
    "## <font color='blue'>Forward propagation </font>"
   ]
  },
  {
   "cell_type": "markdown",
   "metadata": {
    "id": "FCZrm-gkfTKI"
   },
   "source": [
    "\n",
    "*  <b>\n",
    "    Forward propagation</b>(Write your code in<font color='blue'> def forward_propagation()</b></font>)<br><br>\n",
    "    For easy debugging, we will break the computational graph into 3 parts.\n",
    "\n",
    "    <font color='green'><b>Part 1</b></font></b>\n",
    "    <img src='https://i.imgur.com/0xUaxy6.png'><br><br>\n",
    "    <font color='green'><b>Part 2</b></font></b><br>\n",
    "    <img src='https://i.imgur.com/J29pAJL.png'><br><br>\n",
    "    <font color='green'><b>Part 3</b></font></b>\n",
    "    <img src='https://i.imgur.com/vMyCsd9.png'>"
   ]
  },
  {
   "cell_type": "code",
   "execution_count": 7,
   "metadata": {
    "id": "ADCovl2FfTKJ"
   },
   "outputs": [],
   "source": [
    "def sigmoid(z):\n",
    "    '''In this function, we will compute the sigmoid(z)'''\n",
    "    # we can use this function in forward and backward propagation\n",
    "    # write the code to compute the sigmoid value of z and return that value\n",
    "    sig_z=(1/(1+np.exp(-z)))\n",
    "    \n",
    "    return sig_z"
   ]
  },
  {
   "cell_type": "code",
   "execution_count": 8,
   "metadata": {
    "id": "dLJ-OYwefTKJ"
   },
   "outputs": [
    {
     "data": {
      "text/plain": [
       "True"
      ]
     },
     "execution_count": 8,
     "metadata": {},
     "output_type": "execute_result"
    }
   ],
   "source": [
    "def grader_sigmoid(z):\n",
    "    #if you have written the code correctly then the grader function will output true\n",
    "    val=sigmoid(z)\n",
    "    assert(val==0.8807970779778823)\n",
    "    return True\n",
    "\n",
    "grader_sigmoid(2)"
   ]
  },
  {
   "cell_type": "code",
   "execution_count": 9,
   "metadata": {
    "id": "KD3piNkifTKJ"
   },
   "outputs": [],
   "source": [
    "def forward_propagation(x, y, w):\n",
    "        '''In this function, we will compute the forward propagation '''\n",
    "        # X: input data point, note that in this assignment you are having 5-d data points\n",
    "        # y: output varible\n",
    "        # W: weight array, its of length 9, W[0] corresponds to w1 in graph, W[1] corresponds to w2 in graph,..., W[8] corresponds to w9 in graph.  \n",
    "        # you have to return the following variables\n",
    "        # exp= part1 (compute the forward propagation until exp and then store the values in exp)\n",
    "        # tanh =part2(compute the forward propagation until tanh and then store the values in tanh)\n",
    "        # sig = part3(compute the forward propagation until sigmoid and then store the values in sig)\n",
    "        # we are computing one of the values for better understanding\n",
    "        \n",
    "        \n",
    "        #PART 1\n",
    "        val_1= (w[0]*x[0]+w[1]*x[1]) * (w[0]*x[0]+w[1]*x[1]) + w[5]\n",
    "        part_1 = np.exp(val_1) # PART 1 exp. calculation \n",
    "        \n",
    "        #PART 2\n",
    "        val_2 = w[6] + part_1 \n",
    "        part_2 = np.tanh(val_2) #PART 2 tanh calculation\n",
    "        #print(\"tanh: \",part_2)\n",
    "        \n",
    "        \n",
    "        #PART 3\n",
    "        val_3= w[2]*x[2] \n",
    "        val_4= w[3]*x[3]\n",
    "        val_5= w[4]*x[4]\n",
    "        \n",
    "        lc_3=np.sin(val_3)\n",
    "        lc_4_5= val_4 + val_5\n",
    "        lc_6 = lc_3 * lc_4_5\n",
    "        val_8= w[7] + lc_6\n",
    "        part_3= sigmoid(val_8) # PART 3 sigmoid calculation\n",
    "        #print(\"sigmoid: \",part_3)\n",
    "        \n",
    "        #PART 4 -- y_dash\n",
    "        \n",
    "        val_9 = w[8]* part_3\n",
    "        part_4= val_9 + part_2 #PART 4\n",
    "        y_dash = -2*(y-part_4) #Derivative of loss wrt y_pred\n",
    "        #print(\"y_dash: \",y_dash)\n",
    "        \n",
    "        \n",
    "        #Loss\n",
    "        loss = np.square(y-part_4) #LOSS \n",
    "        #print(\"loss: \", loss)\n",
    "        \n",
    "        \n",
    "        # after computing part1,part2 and part3 compute the value of y' from the main Computational graph using required equations\n",
    "        # write code to compute the value of L=(y-y')^2 and store it in variable loss\n",
    "        # compute derivative of L  w.r.to y' and store it in dy_pred \n",
    "        # Create a dictionary to store all the intermediate values i.e. dy_pred ,loss,exp,tanh,sigmoid\n",
    "        # we will be using the dictionary to find values in backpropagation, you can add other keys in dictionary as well\n",
    "        \n",
    "        forward_dict={}\n",
    "        forward_dict['exp']= part_1\n",
    "        forward_dict['sigmoid'] =part_3\n",
    "        forward_dict['tanh'] = part_2\n",
    "        forward_dict['loss'] = loss\n",
    "        forward_dict['dy_pred'] = y_dash\n",
    "        \n",
    "        return forward_dict\n"
   ]
  },
  {
   "cell_type": "code",
   "execution_count": 10,
   "metadata": {
    "id": "vP0iV7f4fTKK"
   },
   "outputs": [
    {
     "data": {
      "text/plain": [
       "True"
      ]
     },
     "execution_count": 10,
     "metadata": {},
     "output_type": "execute_result"
    }
   ],
   "source": [
    "def grader_forwardprop(data):\n",
    "    dl = (data['dy_pred']==-1.9285278284819143)\n",
    "    loss=(data['loss']==0.9298048963072919)\n",
    "    part1=(data['exp']==1.1272967040973583)\n",
    "    part2=(data['tanh']==0.8417934192562146)\n",
    "    part3=(data['sigmoid']==0.5279179387419721)\n",
    "    assert(dl and loss and part1 and part2 and part3)\n",
    "    return True\n",
    "w=np.ones(9)*0.1\n",
    "d1=forward_propagation(X[0],y[0],w)\n",
    "grader_forwardprop(d1)\n"
   ]
  },
  {
   "cell_type": "markdown",
   "metadata": {
    "id": "2zcQmvkvfTKL"
   },
   "source": [
    "# <font color='red'>Task 1.2 </font>"
   ]
  },
  {
   "cell_type": "markdown",
   "metadata": {
    "id": "4YVYD18xfTKL"
   },
   "source": [
    "## <font color='blue'>Backward propagation</font>"
   ]
  },
  {
   "cell_type": "code",
   "execution_count": 11,
   "metadata": {
    "id": "Ld1PMQtffTKL"
   },
   "outputs": [],
   "source": [
    "def backward_propagation(x,y,w,forward_dict):\n",
    "    '''In this function, we will compute the backward propagation '''\n",
    "    # forward_dict: the outputs of the forward_propagation() function\n",
    "    # write code to compute the gradients of each weight [w1,w2,w3,...,w9]\n",
    "    # Hint: you can use dict type to store the required variables \n",
    "    # dw1 = # in dw1 compute derivative of L w.r.to w1\n",
    "    # dw2 = # in dw2 compute derivative of L w.r.to w2\n",
    "    # dw3 = # in dw3 compute derivative of L w.r.to w3\n",
    "    # dw4 = # in dw4 compute derivative of L w.r.to w4\n",
    "    # dw5 = # in dw5 compute derivative of L w.r.to w5\n",
    "    # dw6 = # in dw6 compute derivative of L w.r.to w6\n",
    "    # dw7 = # in dw7 compute derivative of L w.r.to w7\n",
    "    # dw8 = # in dw8 compute derivative of L w.r.to w8\n",
    "    # dw9 = # in dw9 compute derivative of L w.r.to w9\n",
    "    \n",
    "      \n",
    "        \n",
    "    o_19= w[0] * x[0]\n",
    "    o_17= w[1] * x[1]\n",
    "    o_14= w[2] * x[2]\n",
    "    o_12= w[3] * x[3]\n",
    "    o_11= w[4] * x[4]\n",
    "    \n",
    "    o_10= o_11 + o_12\n",
    "    o_13= np.sin(o_14)\n",
    "    o_9= o_13 * o_10\n",
    "    o_1= w[7] + o_9\n",
    "    o_2= sigmoid(o_1)\n",
    "    o_3=w[8] * o_2\n",
    "    \n",
    "    o_18= o_19 + o_17\n",
    "    o_16= o_17 + o_19\n",
    "    \n",
    "    o_15= o_18*o_16\n",
    "    o_8=w[5] + o_15\n",
    "    \n",
    "    o_7=np.exp(o_8)\n",
    "    o_6=w[6] + o_7\n",
    "    \n",
    "    o_5=np.tanh(o_6)\n",
    "    \n",
    "    o_4= o_5 + o_3\n",
    "    y_dash = -2*(y-o_4) #Derivative of loss wrt y_pred\n",
    "    #print(\"y_dash: \",y_dash)\n",
    "\n",
    "\n",
    "    #Loss\n",
    "    loss = np.square(y-o_4) #LOSS \n",
    "    #print(\"loss: \", loss)\n",
    "    \n",
    "    \n",
    "    #DIFFERENTATION\n",
    "    dw1= y_dash * (1-math.pow(o_5,2))*o_7*2*x[0]*o_16\n",
    "    #print(\"\\n\\ndw1 :\", dw1)\n",
    "    dw2= y_dash * (1-math.pow(o_5,2))*o_7*2*x[1]*o_16\n",
    "    #print(\"dw2 :\", dw2)\n",
    "    dw3= y_dash * w[8] * sigmoid(o_1) * (1-sigmoid(o_1)) * np.cos(o_14) * x[2] * o_10\n",
    "    #print(\"dw3 :\", dw3)\n",
    "    dw4= y_dash * w[8] * sigmoid(o_1) *o_13* (1-sigmoid(o_1)) * x[3]\n",
    "    #print(\"dw4 :\", dw4)\n",
    "    dw5= y_dash * w[8] * sigmoid(o_1) *o_13* (1-sigmoid(o_1)) * x[4]\n",
    "    #print(\"dw5 :\", dw5)\n",
    "    dw6= y_dash * (1-math.pow(o_5,2))*o_7\n",
    "    #print(\"dw6 :\", dw6)\n",
    "    dw7= y_dash * (1-math.pow(o_5,2))\n",
    "    #print(\"dw7 :\", dw7)\n",
    "    dw8= y_dash * w[8] * sigmoid(o_1) * (1-sigmoid(o_1))\n",
    "    #print(\"dw8 :\", dw8)\n",
    "    dw9= y_dash * sigmoid(o_1)\n",
    "    #print(\"dw9 :\", dw9)\n",
    "    \n",
    "    \n",
    "    #\n",
    "    backward_dict={}\n",
    "    backward_dict['dw1']= dw1\n",
    "    backward_dict['dw2']= dw2\n",
    "    backward_dict['dw3']= dw3\n",
    "    backward_dict['dw4']= dw4\n",
    "    backward_dict['dw5']= dw5\n",
    "    backward_dict['dw6']= dw6\n",
    "    backward_dict['dw7']= dw7\n",
    "    backward_dict['dw8']= dw8\n",
    "    backward_dict['dw9']= dw9\n",
    "    #store the variables dw1,dw2 etc. in a dict as backward_dict['dw1']= dw1,backward_dict['dw2']= dw2...\n",
    "    \n",
    "    \n",
    "    return backward_dict"
   ]
  },
  {
   "cell_type": "code",
   "execution_count": 12,
   "metadata": {
    "id": "0ipQbNXOfTKM"
   },
   "outputs": [
    {
     "name": "stdout",
     "output_type": "stream",
     "text": [
      "backward_dict:  {'dw1': -0.22973323498702003, 'dw2': -0.02140761471775293, 'dw3': -0.005625405580266319, 'dw4': -0.004657941222712423, 'dw5': -0.0010077228498574246, 'dw6': -0.6334751873437471, 'dw7': -0.561941842854033, 'dw8': -0.04806288407316516, 'dw9': -1.0181044360187037}\n"
     ]
    },
    {
     "data": {
      "text/plain": [
       "True"
      ]
     },
     "execution_count": 12,
     "metadata": {},
     "output_type": "execute_result"
    }
   ],
   "source": [
    "def grader_backprop(data):\n",
    "    dw1=(np.round(data['dw1'],6)==-0.229733)\n",
    "    dw2=(np.round(data['dw2'],6)==-0.021408)\n",
    "    dw3=(np.round(data['dw3'],6)==-0.005625)\n",
    "    dw4=(np.round(data['dw4'],6)==-0.004658)\n",
    "    dw5=(np.round(data['dw5'],6)==-0.001008)\n",
    "    dw6=(np.round(data['dw6'],6)==-0.633475)\n",
    "    dw7=(np.round(data['dw7'],6)==-0.561942)\n",
    "    dw8=(np.round(data['dw8'],6)==-0.048063)\n",
    "    dw9=(np.round(data['dw9'],6)==-1.018104)\n",
    "    assert(dw1 and dw2 and dw3 and dw4 and dw5 and dw6 and dw7 and dw8 and dw9)\n",
    "    return True \n",
    "w=np.ones(9)*0.1\n",
    "forward_dict=forward_propagation(X[0],y[0],w)\n",
    "backward_dict=backward_propagation(X[0],y[0],w,forward_dict)\n",
    "print(\"backward_dict: \",backward_dict)\n",
    "grader_backprop(backward_dict)"
   ]
  },
  {
   "cell_type": "markdown",
   "metadata": {
    "id": "RlR1JVN5fTKM"
   },
   "source": [
    "# <font color='red'>Task 1.3 </font>"
   ]
  },
  {
   "cell_type": "markdown",
   "metadata": {
    "id": "STS4NrQQc6OH"
   },
   "source": [
    " ## <font color='blue'>Gradient clipping</font>"
   ]
  },
  {
   "cell_type": "markdown",
   "metadata": {
    "id": "XY7ivRNzdPok"
   },
   "source": [
    "<b> Check this  <a href='https://towardsdatascience.com/how-to-debug-a-neural-network-with-gradient-checking-41deec0357a9'>blog link</a> for more details on Gradient clipping"
   ]
  },
  {
   "cell_type": "markdown",
   "metadata": {
    "id": "BrsfpDoidtZ5"
   },
   "source": [
    " we know that the derivative of any function is\n",
    " \n",
    " $$\\lim_{\\epsilon\\to0}\\frac{f(x+\\epsilon)-f(x-\\epsilon)}{2\\epsilon}$$\n"
   ]
  },
  {
   "cell_type": "markdown",
   "metadata": {
    "id": "vUcmt0kPd02f"
   },
   "source": [
    "*  The definition above can be used as a numerical approximation of the derivative. Taking an epsilon small enough, the calculated approximation will have an error in the range of epsilon squared. \n",
    "\n",
    "*  In other words, if epsilon is 0.001, the approximation will be off by 0.00001.\n",
    "\n",
    "Therefore, we can use this to approximate the gradient, and in turn make sure that backpropagation is implemented properly. This forms the basis of <b>gradient checking!</b>"
   ]
  },
  {
   "cell_type": "markdown",
   "metadata": {
    "id": "pFSu16KCeU0x"
   },
   "source": [
    "## <Font color='blue'>Gradient checking example</font>"
   ]
  },
  {
   "cell_type": "markdown",
   "metadata": {
    "id": "Gz0mmT_xecfC"
   },
   "source": [
    "<font >\n",
    "lets understand the concept with a simple example:\n",
    "$f(w1,w2,x1,x2)=w_{1}^{2} . x_{1} + w_{2} . x_{2}$ \n",
    "\n",
    "from the above function , lets assume $w_{1}=1$, $w_{2}=2$, $x_{1}=3$, $x_{2}=4$ the gradient of $f$ w.r.t $w_{1}$ is\n",
    "\n",
    "\\begin{array} {lcl}\n",
    "\\frac{df}{dw_{1}} = dw_{1} &=&2.w_{1}.x_{1} \\\\& = &2.1.3\\\\& = &6\n",
    "\\end{array}\n",
    "\n",
    "\n",
    "let calculate the aproximate gradient of $w_{1}$ as mentinoned in the above formula and considering $\\epsilon=0.0001$\n",
    "\n",
    "\\begin{array} {lcl}\n",
    "dw_1^{approx} & = & \\frac{f(w1+\\epsilon,w2,x1,x2)-f(w1-\\epsilon,w2,x1,x2)}{2\\epsilon} \\\\ & = & \\frac{((1+0.0001)^{2} . 3 + 2 . 4) - ((1-0.0001)^{2} . 3 + 2 . 4)}{2\\epsilon} \\\\ & = & \\frac{(1.00020001 . 3 + 2 . 4) - (0.99980001. 3 + 2 . 4)}{2*0.0001} \\\\ & = & \\frac{(11.00060003) - (10.99940003)}{0.0002}\\\\ & = & 5.99999999999\n",
    "\\end{array}\n",
    "\n",
    "Then, we apply the following formula for gradient check: <i>gradient_check</i> = \n",
    "$\\frac{\\left\\Vert\\left (dW-dW^{approx}\\rm\\right) \\right\\Vert_2}{\\left\\Vert\\left (dW\\rm\\right) \\right\\Vert_2+\\left\\Vert\\left (dW^{approx}\\rm\\right) \\right\\Vert_2}$\n",
    "\n",
    "The equation above is basically the Euclidean distance normalized by the sum of the norm of the vectors. We use normalization in case that one of the vectors is very small.\n",
    "As a value for epsilon, we usually opt for 1e-7. Therefore, if gradient check return a value less than 1e-7, then it means that backpropagation was implemented correctly. Otherwise, there is potentially a mistake in your implementation. If the value exceeds 1e-3, then you are sure that the code is not correct.\n",
    "\n",
    "in our example: <i>gradient_check</i> $ = \\frac{(6 - 5.999999999994898)}{(6 + 5.999999999994898)} = 4.2514140356330737e^{-13}$\n",
    "\n",
    "you can mathamatically derive the same thing like this\n",
    "\n",
    "\\begin{array} {lcl}\n",
    "dw_1^{approx} & = & \\frac{f(w1+\\epsilon,w2,x1,x2)-f(w1-\\epsilon,w2,x1,x2)}{2\\epsilon} \\\\ & = & \\frac{((w_{1}+\\epsilon)^{2} . x_{1} + w_{2} . x_{2}) - ((w_{1}-\\epsilon)^{2} . x_{1} + w_{2} . x_{2})}{2\\epsilon} \\\\ & = & \\frac{4. \\epsilon.w_{1}. x_{1}}{2\\epsilon} \\\\ & = &  2.w_{1}.x_{1}\n",
    "\\end{array}\n"
   ]
  },
  {
   "cell_type": "markdown",
   "metadata": {
    "id": "f1BFQQaCermK"
   },
   "source": [
    "## <font color='red'> Implement Gradient checking </font> <br>\n",
    " (Write your code in <font color='blue'> def gradient_checking()</font>)"
   ]
  },
  {
   "cell_type": "markdown",
   "metadata": {
    "id": "GqpfA3AqfJba"
   },
   "source": [
    "**Algorithm** \n",
    "\n"
   ]
  },
  {
   "cell_type": "markdown",
   "metadata": {
    "id": "FL39KeRFfNoD"
   },
   "source": [
    "<pre>\n",
    "<font color='darkblue'>\n",
    "W = initilize_randomly\n",
    "def gradient_checking(data_point, W):<font color='grey'>\n",
    "    # compute the L value using forward_propagation()\n",
    "    # compute the gradients of W using backword_propagation()</font>\n",
    "    approx_gradients = []\n",
    "    for each wi weight value in W:<font color='grey'>\n",
    "        # add a small value to weight wi, and then find the values of L with the updated weights\n",
    "        # subtract a small value to weight wi, and then find the values of L with the updated weights\n",
    "        # compute the approximation gradients of weight wi</font>\n",
    "        approx_gradients.append(approximation gradients of weight wi)<font color='grey'>\n",
    "    # compare the gradient of weights W from backword_propagation() with the aproximation gradients of weights with <br>  gradient_check formula</font>\n",
    "    return gradient_check</font>\n",
    "<b>NOTE: you can do sanity check by checking all the return values of gradient_checking(),<br> they have to be zero. if not you have bug in your code\n",
    "</pre></b>"
   ]
  },
  {
   "cell_type": "code",
   "execution_count": 13,
   "metadata": {
    "id": "XBoJRqAwfTKO"
   },
   "outputs": [],
   "source": [
    "def gradient_checking(x,y,w,eps):\n",
    "    # compute the dict value using forward_propagation()\n",
    "    # compute the actual gradients of W using backword_propagation()\n",
    "    weight=w\n",
    "    forward_dict=forward_propagation(x,y,w)\n",
    "    #print(\"\\nforward_dict: \", forward_dict)\n",
    "    backward_dict=backward_propagation(x,y,w,forward_dict)\n",
    "    #print(\"\\n\\nbackward_dict: \", backward_dict)\n",
    "    \n",
    "    #we are storing the original gradients for the given datapoints in a list\n",
    "    \n",
    "    original_gradients_list=list(backward_dict.values())\n",
    "    # make sure that the order is correct i.e. first element in the list corresponds to  dw1 ,second element is dw2 etc.\n",
    "    # you can use reverse function if the values are in reverse order\n",
    "    #print(\"\\n\\noriginal_gradients_list: \", original_gradients_list)\n",
    "    \n",
    "    approx_gradients_list=[]\n",
    "    #now we have to write code for approx gradients, here you have to make sure that you update only one weight at a time\n",
    "    #write your code here and append the approximate gradient value for each weight in  approx_gradients_list\n",
    "    \n",
    "    for i in range(len(w)):\n",
    "        #print(\"\\n\\ni:\", i)\n",
    "        \n",
    "        w[i]= weight[i] + (2*eps) \n",
    "        #print( \"\\n\\nl1  w[i]: \",w[i])\n",
    "        l1=forward_propagation(x,y,w)\n",
    "        loss1=l1['loss']\n",
    "        #print(\"loss1: \", loss1)\n",
    "        \n",
    "        w[i]=weight[i]- (2*eps)\n",
    "        #print( \"l2  w[i]: \",w[i])\n",
    "        l2=forward_propagation(x,y,w)\n",
    "        loss2=l2[\"loss\"]\n",
    "        #print(\"loss2: \", loss2)\n",
    "        \n",
    "        aprox=(loss1-loss2)/(2*eps)\n",
    "        #print(\"aprox: \", aprox)\n",
    "        approx_gradients_list.append(aprox)\n",
    "    #print(approx_gradients_list)\n",
    "        \n",
    "    \n",
    "    \n",
    "    #performing gradient check operation\n",
    "    original_gradients_list=np.array(original_gradients_list)\n",
    "    print(\"\\n\\noriginal_gradients_list: \", original_gradients_list)\n",
    "    approx_gradients_list=np.array(approx_gradients_list)\n",
    "    print(\"\\n\\napprox_gradients_list: \", approx_gradients_list)\n",
    "    gradient_check_value =(original_gradients_list-approx_gradients_list)/(original_gradients_list+approx_gradients_list)\n",
    "    #print(\"\\n\\ngradient_check_value: \", gradient_check_value)\n",
    "    \n",
    "    \n",
    "    return gradient_check_value\n",
    "    "
   ]
  },
  {
   "cell_type": "code",
   "execution_count": 14,
   "metadata": {
    "id": "aWSU56GffTKO"
   },
   "outputs": [
    {
     "name": "stdout",
     "output_type": "stream",
     "text": [
      "\n",
      "\n",
      "original_gradients_list:  [-1.16630512e-02 -1.08681753e-03  3.55201075e-06 -1.14905650e-05\n",
      " -2.48592766e-06 -9.03275801e-01 -9.02219254e-01 -7.04759100e-03\n",
      " -1.09954653e+00]\n",
      "\n",
      "\n",
      "approx_gradients_list:  [-1.16633492e-02 -1.08681952e-03  3.55382390e-06 -1.14885879e-05\n",
      " -2.48467913e-06 -9.03275719e-01 -9.02219082e-01 -7.04759029e-03\n",
      " -1.09954648e+00]\n",
      "\n",
      "\n",
      "checking value throuh assertion:  [-1.27728864e-05 -9.16707710e-07 -2.55164399e-04  8.60405080e-05\n",
      "  2.51181965e-04  4.53604415e-08  9.56027526e-08  5.07577919e-08\n",
      "  2.45398829e-08]\n"
     ]
    },
    {
     "data": {
      "text/plain": [
       "True"
      ]
     },
     "execution_count": 14,
     "metadata": {},
     "output_type": "execute_result"
    }
   ],
   "source": [
    "def grader_grad_check(value):\n",
    "    print(\"\\n\\nchecking value throuh assertion: \",value)\n",
    "    assert(np.all(value <= 10**-3))\n",
    "    return True \n",
    "\n",
    "w=[ 0.00271756,  0.01260512,  0.00167639, -0.00207756,  0.00720768,\n",
    "   0.00114524,  0.00684168,  0.02242521,  0.01296444]\n",
    "\n",
    "eps=10**-7\n",
    "value= gradient_checking(X[0],y[0],w,eps)\n",
    "#print(\"\\n\\nvalue: \", value)\n",
    "\n",
    "grader_grad_check(value)"
   ]
  },
  {
   "cell_type": "markdown",
   "metadata": {
    "id": "0ufbFBFfhgL0"
   },
   "source": [
    "# <font color='red'> Task 2 : Optimizers </font>"
   ]
  },
  {
   "cell_type": "markdown",
   "metadata": {
    "id": "7zt05soYh1RM"
   },
   "source": [
    "* As a part of this task, you will be implementing 2  optimizers(methods to update weight)\n",
    "* Use the same computational graph that was mentioned above to do this task\n",
    "* The weights have been initialized from normal distribution with mean=0 and std=0.01. The initialization of weights is very important otherwiswe you can face vanishing gradient and exploding gradients problem."
   ]
  },
  {
   "cell_type": "markdown",
   "metadata": {
    "id": "CAyi7aSAicbr"
   },
   "source": [
    "**Check below video for reference purpose**"
   ]
  },
  {
   "cell_type": "code",
   "execution_count": 15,
   "metadata": {
    "id": "ZogcxiegkQpz"
   },
   "outputs": [
    {
     "data": {
      "image/jpeg": "[encoded data removed]",
      "text/html": [
       "\n",
       "        <iframe\n",
       "            width=\"1000\"\n",
       "            height=\"500\"\n",
       "            src=\"https://www.youtube.com/embed/gYpoJMlgyXA\"\n",
       "            frameborder=\"0\"\n",
       "            allowfullscreen\n",
       "        ></iframe>\n",
       "        "
      ],
      "text/plain": [
       "<IPython.lib.display.YouTubeVideo at 0x7fc510813f70>"
      ]
     },
     "execution_count": 15,
     "metadata": {},
     "output_type": "execute_result"
    }
   ],
   "source": [
    "from IPython.display import YouTubeVideo\n",
    "YouTubeVideo('gYpoJMlgyXA',width=\"1000\",height=\"500\")"
   ]
  },
  {
   "cell_type": "markdown",
   "metadata": {
    "id": "jmefh7ktjbaR"
   },
   "source": [
    "<font color='blue'><b>Algorithm</b>"
   ]
  },
  {
   "cell_type": "markdown",
   "metadata": {
    "id": "nAc4NudkjdNa"
   },
   "source": [
    "<pre>\n",
    "    for each epoch(1-20):\n",
    "        for each data point in your data:\n",
    "            using the functions forward_propagation() and backword_propagation() compute the gradients of weights\n",
    "            update the weigts with help of gradients  \n",
    "</pre>"
   ]
  },
  {
   "cell_type": "markdown",
   "metadata": {
    "id": "_fdmPNqtjm3X"
   },
   "source": [
    "## <font color='red'> Implement below tasks</b>"
   ]
  },
  {
   "cell_type": "markdown",
   "metadata": {
    "id": "Ll9-CRsLjx_D"
   },
   "source": [
    "\n",
    "*  <b>Task 2.1</b>: you will be implementing the above algorithm with <b>Vanilla update</b> of weights<br><br>\n",
    "*  <b>Task 2.2</b>: you will be implementing the above algorithm with <b>Momentum update</b> of weights<br><br>\n",
    "*  <b>Task 2.3</b>: you will be implementing the above algorithm with <b>Adam update</b> of weights<br><br>\n"
   ]
  },
  {
   "cell_type": "markdown",
   "metadata": {
    "id": "atp082demrUR"
   },
   "source": [
    "**Note : If you get any assertion error while running grader functions, please print the variables in grader functions and check which variable is returning False .Recheck your logic for that variable .**"
   ]
  },
  {
   "cell_type": "markdown",
   "metadata": {
    "id": "cv_hZFWalS2z"
   },
   "source": [
    "### <font color='blue'>2.1 Algorithm with Vanilla update of weights</font>"
   ]
  },
  {
   "cell_type": "code",
   "execution_count": 16,
   "metadata": {
    "id": "KlVuEsRjQoW5"
   },
   "outputs": [
    {
     "name": "stdout",
     "output_type": "stream",
     "text": [
      "weights:  [ 0.00664667  0.00035001  0.00478925  0.00411992  0.00261141 -0.01247712\n",
      " -0.00305405 -0.02020101 -0.00055132]\n"
     ]
    }
   ],
   "source": [
    "from sklearn.metrics import mean_squared_error \n",
    "epoch=20\n",
    "neu=.001\n",
    "mu, sigma = 0, 0.01 # mean and standard deviation\n",
    "w = np.random.normal(mu, sigma, 9) # weight intialization\n",
    "print(\"weights: \",w)"
   ]
  },
  {
   "cell_type": "code",
   "execution_count": 17,
   "metadata": {},
   "outputs": [
    {
     "name": "stdout",
     "output_type": "stream",
     "text": [
      "loss_value_vanilla:  [[0.233404293516523], [0.08159941559475903], [0.019575984079270668], [0.0010026168199990856], [0.002053854268988213], [0.009546177747545952], [0.01746722868784316], [0.02381017810223542], [0.028329784962174583], [0.03136098094783066], [0.03332557303779968], [0.034573390507330534], [0.035356189554388365], [0.0358433525236872], [0.03614478754432461], [0.03633034952607191], [0.03644389453519684], [0.03651275007196421], [0.03655386260283586], [0.03657770524516973]]\n",
      "\n",
      "\n",
      "\n",
      "len of loss_value_vanilla:  20\n"
     ]
    }
   ],
   "source": [
    "# APPLIED ROOT REQUIREMENTS \n",
    "\n",
    "loss_value_vanilla=[]\n",
    "epoch_vanilla=[]\n",
    "\n",
    "for i in range(epoch):\n",
    "    epoch_vanilla.append(i)\n",
    "    \n",
    "    y_pred=[]\n",
    "    for j in range(len(data)):\n",
    "        forward=forward_propagation(X[j], y[j], w)\n",
    "        y_pred.append(forward['dy_pred']) # predicted value\n",
    "        backward=backward_propagation(X[j],y[j],w,forward)\n",
    "        \n",
    "        loss_value_inside=[]\n",
    "        for k in range(len(w)):\n",
    "            #print(k)\n",
    "            w[k]=w[k]- neu * backward['dw'+str(k+1)]\n",
    "            \n",
    "        loss_value_inside.append(forward['loss'])\n",
    "    loss_value_vanilla.append(loss_value_inside)\n",
    "    \n",
    "    \n",
    "print(\"loss_value_vanilla: \",loss_value_vanilla)\n",
    "print(\"\\n\\n\\nlen of loss_value_vanilla: \", len(loss_value_vanilla))"
   ]
  },
  {
   "cell_type": "markdown",
   "metadata": {},
   "source": [
    "### <font color='blue'> epoch vs loss </font>"
   ]
  },
  {
   "cell_type": "code",
   "execution_count": 18,
   "metadata": {},
   "outputs": [
    {
     "data": {
      "text/plain": [
       "<matplotlib.legend.Legend at 0x7fc5118d16d0>"
      ]
     },
     "execution_count": 18,
     "metadata": {},
     "output_type": "execute_result"
    },
    {
     "data": {
      "image/png": "[encoded data removed]",
      "text/plain": [
       "<Figure size 576x432 with 1 Axes>"
      ]
     },
     "metadata": {
      "needs_background": "light"
     },
     "output_type": "display_data"
    }
   ],
   "source": [
    "%matplotlib inline\n",
    "import matplotlib.pyplot as plt\n",
    "plt.figure(figsize=(8,6))\n",
    "plt.grid()\n",
    "plt.plot(epoch_vanilla,loss_value_vanilla, label=' loss')\n",
    "plt.title(\"epoch vs loss\")\n",
    "plt.xlabel(\"epoch_number\")\n",
    "plt.ylabel(\"loss\")\n",
    "plt.legend()"
   ]
  },
  {
   "cell_type": "markdown",
   "metadata": {},
   "source": [
    "### OBSERVATION: \n",
    "\n"
   ]
  },
  {
   "cell_type": "markdown",
   "metadata": {
    "id": "V4RWWrZ7lWap"
   },
   "source": [
    "### <font color='blue'>2.2 Algorithm with Momentum update of weights</font>"
   ]
  },
  {
   "cell_type": "markdown",
   "metadata": {
    "id": "oM2BAasL6zz4"
   },
   "source": [
    "<img src='https://i.imgur.com/gyPSXhS.png'>"
   ]
  },
  {
   "cell_type": "markdown",
   "metadata": {
    "id": "2iCc4sIE-4A-"
   },
   "source": [
    "Here Gamma referes to the momentum coefficient, eta is leaning rate and v_t is moving average of our gradients at timestep t"
   ]
  },
  {
   "cell_type": "markdown",
   "metadata": {
    "id": "-KTmDomaQoW5"
   },
   "source": []
  },
  {
   "cell_type": "code",
   "execution_count": 19,
   "metadata": {},
   "outputs": [],
   "source": [
    "from sklearn.metrics import mean_squared_error \n",
    "epoch=20\n",
    "neu=.001\n",
    "m=np.zeros(9)\n",
    "b=.9\n",
    "mu, sigma = 0, 0.01 # mean and standard deviation\n",
    "w = np.random.normal(mu, sigma, 9) # weight intialization"
   ]
  },
  {
   "cell_type": "code",
   "execution_count": 20,
   "metadata": {},
   "outputs": [
    {
     "name": "stdout",
     "output_type": "stream",
     "text": [
      "loss_value_momentum:  [[0.07169538861199258], [0.07858504428844337], [0.07841961918289544], [0.0777888262721928], [0.07578049093133067], [0.06997066944922009], [0.0569813622108942], [0.03884251049259803], [0.023695103353303795], [0.01419545262596878], [0.00867637109768504], [0.005471005322151483], [0.003567671341281003], [0.002403530599779174], [0.0016685327441724788], [0.0011896983956948216], [0.0008684172355471512], [0.0006470093194284121], [0.000490786769357978], [0.0003782860046441799]]\n",
      "\n",
      "\n",
      "\n",
      "len of loss_value_momentum:  20\n"
     ]
    }
   ],
   "source": [
    "# APPLIED ROOT REQUIREMENTS \n",
    "\n",
    "loss_value_momentum=[]\n",
    "epoch_momentum=[]\n",
    "\n",
    "for i in range(epoch):\n",
    "    #print(i)\n",
    "    epoch_momentum.append(i)\n",
    "    \n",
    "    y_pred=[]\n",
    "    for j in range(len(data)):\n",
    "        #print(j)\n",
    "        forward=forward_propagation(X[j], y[j], w)\n",
    "        y_pred.append(forward['dy_pred']) # predicted value\n",
    "        backward=backward_propagation(X[j],y[j],w,forward)\n",
    "        \n",
    "        loss_value_inside=[]\n",
    "        for k in range(len(w)):\n",
    "            #print(k)\n",
    "            m[k]=b*m[k]+ (neu*backward['dw'+str(k+1)])\n",
    "            w[k]=w[k]- m[k]\n",
    "            \n",
    "        loss_value_inside.append(forward['loss'])\n",
    "    loss_value_momentum.append(loss_value_inside)\n",
    "    \n",
    "print(\"loss_value_momentum: \",loss_value_momentum)\n",
    "print(\"\\n\\n\\nlen of loss_value_momentum: \", len(loss_value_momentum))    "
   ]
  },
  {
   "cell_type": "markdown",
   "metadata": {},
   "source": [
    "### <font color='blue'> epoch vs loss </font>"
   ]
  },
  {
   "cell_type": "code",
   "execution_count": 21,
   "metadata": {},
   "outputs": [
    {
     "data": {
      "text/plain": [
       "<matplotlib.legend.Legend at 0x7fc5108021c0>"
      ]
     },
     "execution_count": 21,
     "metadata": {},
     "output_type": "execute_result"
    },
    {
     "data": {
      "image/png": "[encoded data removed]",
      "text/plain": [
       "<Figure size 576x432 with 1 Axes>"
      ]
     },
     "metadata": {
      "needs_background": "light"
     },
     "output_type": "display_data"
    }
   ],
   "source": [
    "%matplotlib inline\n",
    "import matplotlib.pyplot as plt\n",
    "plt.figure(figsize=(8,6))\n",
    "plt.grid()\n",
    "plt.plot(epoch_momentum,loss_value_momentum, label=' loss')\n",
    "plt.title(\"epoch vs loss\")\n",
    "plt.xlabel(\"epoch_number\")\n",
    "plt.ylabel(\"loss\")\n",
    "plt.legend()"
   ]
  },
  {
   "cell_type": "code",
   "execution_count": null,
   "metadata": {},
   "outputs": [],
   "source": []
  },
  {
   "cell_type": "markdown",
   "metadata": {
    "id": "Agtmr_lZQoW6"
   },
   "source": [
    "### <font color='blue'>2.3 Algorithm with Adam update of weights</font>"
   ]
  },
  {
   "cell_type": "markdown",
   "metadata": {
    "id": "WRYiT2KKQoW6"
   },
   "source": [
    "<img src='https://i.imgur.com/GDR8UFP.jpg'>"
   ]
  },
  {
   "cell_type": "code",
   "execution_count": 22,
   "metadata": {
    "id": "0YffVQ2LQoW6"
   },
   "outputs": [],
   "source": [
    "epoch=20\n",
    "neu=.001\n",
    "m=np.zeros(9)\n",
    "v=np.zeros(9)\n",
    "b1=.9\n",
    "b2=0.999\n",
    "eps=1e-9\n",
    "mu, sigma = 0, 0.01 # mean and standard deviation\n",
    "w = np.random.normal(mu, sigma, 9) # weight intialization"
   ]
  },
  {
   "cell_type": "code",
   "execution_count": 23,
   "metadata": {},
   "outputs": [
    {
     "name": "stdout",
     "output_type": "stream",
     "text": [
      "loss_value_adam:  [[0.18926567342083964], [0.08310547746316208], [0.033697097220617034], [0.011058406235223315], [0.0023871523517974298], [0.0001719830043699898], [1.904607026262844e-05], [6.465606273648009e-05], [1.384076419937127e-05], [1.2493540076928553e-05], [0.00011239313045096862], [0.0002570523079605077], [0.00037409566088864043], [0.00042421156381045787], [0.0004093887780316258], [0.0003547951354997027], [0.0002861203261153023], [0.00021949283409534358], [0.0001624878035060046], [0.00011765136073256436]]\n",
      "\n",
      "\n",
      "\n",
      "len of loss_value_adam:  20\n"
     ]
    }
   ],
   "source": [
    "# APPLIED ROOT REQUIREMENTS \n",
    "\n",
    "loss_value_adam=[]\n",
    "epoch_adam=[]\n",
    "\n",
    "for i in range(epoch):\n",
    "    epoch_adam.append(i)\n",
    "    \n",
    "    y_pred=[]\n",
    "    for j in range(len(data)):\n",
    "        \n",
    "        forward=forward_propagation(X[j], y[j], w)\n",
    "        y_pred.append(forward['dy_pred']) # predicted value\n",
    "        #print(len(y_pred))\n",
    "        backward=backward_propagation(X[j],y[j],w,forward)\n",
    "        \n",
    "        loss_value_inside=[]\n",
    "        for k in range(len(w)):\n",
    "            m[k]=(b1*m[k]) + ((1-b1)*backward['dw'+str(k+1)])\n",
    "            mt=m[k]/(1-b1)\n",
    "            v[k]=(b2*v[k]) + ((1-b2)*math.pow(backward['dw'+str(k+1)],2))\n",
    "            vt=v[k]/(1-b2)\n",
    "            w[k]=w[k]-(neu/(math.sqrt(vt)+eps))*mt\n",
    "            \n",
    "        loss_value_inside.append(forward['loss']) \n",
    "    loss_value_adam.append(loss_value_inside)\n",
    "\n",
    "print(\"loss_value_adam: \",loss_value_adam)\n",
    "print(\"\\n\\n\\nlen of loss_value_adam: \", len(loss_value_adam))"
   ]
  },
  {
   "cell_type": "code",
   "execution_count": 24,
   "metadata": {},
   "outputs": [
    {
     "data": {
      "text/plain": [
       "<matplotlib.legend.Legend at 0x7fc511b7db50>"
      ]
     },
     "execution_count": 24,
     "metadata": {},
     "output_type": "execute_result"
    },
    {
     "data": {
      "image/png": "[encoded data removed]",
      "text/plain": [
       "<Figure size 576x432 with 1 Axes>"
      ]
     },
     "metadata": {
      "needs_background": "light"
     },
     "output_type": "display_data"
    }
   ],
   "source": [
    "\n",
    "\n",
    "%matplotlib inline\n",
    "import matplotlib.pyplot as plt\n",
    "plt.figure(figsize=(8,6))\n",
    "plt.grid()\n",
    "plt.plot(epoch_adam,loss_value_adam, label=' loss')\n",
    "plt.title(\"epoch vs loss\")\n",
    "plt.xlabel(\"epoch_number\")\n",
    "plt.ylabel(\"loss\")\n",
    "plt.legend()\n",
    "\n"
   ]
  },
  {
   "cell_type": "code",
   "execution_count": null,
   "metadata": {},
   "outputs": [],
   "source": []
  },
  {
   "cell_type": "code",
   "execution_count": null,
   "metadata": {},
   "outputs": [],
   "source": []
  },
  {
   "cell_type": "markdown",
   "metadata": {
    "id": "7627cy8YlnYO"
   },
   "source": [
    "<font color='blue'>Comparision plot between epochs and loss with different optimizers. Make sure that loss is conerging with increaing epochs</font>"
   ]
  },
  {
   "cell_type": "code",
   "execution_count": 25,
   "metadata": {
    "id": "scleSfIXl_bC"
   },
   "outputs": [],
   "source": [
    "#plot the graph between loss vs epochs for all 3 optimizers."
   ]
  },
  {
   "cell_type": "markdown",
   "metadata": {
    "id": "YfDWEOCr69uQ"
   },
   "source": [
    "<font color='blue'><b>You can go through the following blog to understand the implementation of other optimizers .</font>\n",
    "   <br> [Gradients update blog](https://cs231n.github.io/neural-networks-3/) </br>"
   ]
  },
  {
   "cell_type": "code",
   "execution_count": 26,
   "metadata": {
    "id": "IsoSyrCQ6_xb"
   },
   "outputs": [
    {
     "data": {
      "text/plain": [
       "<matplotlib.legend.Legend at 0x7fc511cabd60>"
      ]
     },
     "execution_count": 26,
     "metadata": {},
     "output_type": "execute_result"
    },
    {
     "data": {
      "image/png": "[encoded data removed]",
      "text/plain": [
       "<Figure size 576x432 with 1 Axes>"
      ]
     },
     "metadata": {
      "needs_background": "light"
     },
     "output_type": "display_data"
    }
   ],
   "source": [
    "%matplotlib inline\n",
    "import matplotlib.pyplot as plt\n",
    "plt.figure(figsize=(8,6))\n",
    "plt.grid()\n",
    "plt.plot(epoch_adam,loss_value_adam, label=' adam update')\n",
    "plt.plot(epoch_vanilla,loss_value_vanilla, label=' vanilla update')\n",
    "plt.plot(epoch_momentum,loss_value_momentum, label=' momentum')\n",
    "plt.xlabel(\"epoch_number\")\n",
    "plt.ylabel(\"loss\")\n",
    "plt.legend()"
   ]
  },
  {
   "cell_type": "markdown",
   "metadata": {},
   "source": [
    "### OBSERVATIONS: \n",
    "\n",
    "From the 3 optimizers, \n",
    "1. the adam is coverging faster, because adam combines the best properties of the AdaGrad and RMSProp algorithms to provide an optimization algorithm that can handle sparse gradients on noisy problems.\n",
    "2. Vanilla optimizer converges faster than adam, however, after few epoch at epoch 3, the convergence changes it's due to several passes can be made over the training. \n",
    "3. SGD with momentum optimizer accelerate gradients vectors in the right directions, thus leading to faster converging, it's because exponetial weighting to denoise SGD gradient. Which is the reason, at epoch 5, its start converging and reaches to optimum at epoch 12. \n",
    "\n",
    "Conclusion:\n",
    "Over all adam optimizer is the best, since it converges faster than other optimizers. "
   ]
  }
 ],
 "metadata": {
  "colab": {
   "collapsed_sections": [],
   "name": "Backpropagation_Assignment.ipynb",
   "provenance": []
  },
  "kernelspec": {
   "display_name": "Python 3",
   "language": "python",
   "name": "python3"
  },
  "language_info": {
   "codemirror_mode": {
    "name": "ipython",
    "version": 3
   },
   "file_extension": ".py",
   "mimetype": "text/x-python",
   "name": "python",
   "nbconvert_exporter": "python",
   "pygments_lexer": "ipython3",
   "version": "3.8.8"
  }
 },
 "nbformat": 4,
 "nbformat_minor": 1
}
